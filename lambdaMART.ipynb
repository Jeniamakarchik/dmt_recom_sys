{
 "cells": [
  {
   "cell_type": "markdown",
   "metadata": {
    "collapsed": false
   },
   "source": [
    "### Useful Resources"
   ]
  },
  {
   "cell_type": "markdown",
   "metadata": {
    "collapsed": false
   },
   "source": [
    "- [A Practical Guide to LambdaMART in LightGbm](https://medium.datadriveninvestor.com/a-practical-guide-to-lambdamart-in-lightgbm-f16a57864f6)\n",
    "- [lightgbm.LGBMRanker Documentation](https://lightgbm.readthedocs.io/en/latest/pythonapi/lightgbm.LGBMRanker.html#)\n",
    "- [LightGBM Parameter Tuning Guide](https://lightgbm.readthedocs.io/en/latest/Parameters-Tuning.html)\n",
    "- [How To Use Optuna to Tune LightGBM Hyperparameters](https://forecastegy.com/posts/how-to-use-optuna-to-tune-lightgbm-hyperparameters/)\n",
    "- [Optuna](https://optuna.readthedocs.io/en/stable/tutorial/index.html)"
   ]
  },
  {
   "attachments": {},
   "cell_type": "markdown",
   "metadata": {},
   "source": [
    "### Global Constants"
   ]
  },
  {
   "cell_type": "code",
   "execution_count": 1,
   "metadata": {
    "ExecuteTime": {
     "end_time": "2023-05-24T15:26:34.665082Z",
     "start_time": "2023-05-24T15:26:34.654999Z"
    }
   },
   "outputs": [],
   "source": [
    "# --------------- Model --------------- #\n",
    "# k for NDCG@k\n",
    "K = 5    \n",
    "# Number of iterations/trees for LightGBM              \n",
    "NUM_ITERATIONS = 300 # 1000\n",
    "\n",
    "# --------------- Tuning --------------- #\n",
    "# number of trials for Optuna\n",
    "N_TRIALS = 50   # 30"
   ]
  },
  {
   "attachments": {},
   "cell_type": "markdown",
   "metadata": {},
   "source": [
    "### Libraries"
   ]
  },
  {
   "cell_type": "code",
   "execution_count": 2,
   "metadata": {
    "ExecuteTime": {
     "end_time": "2023-05-24T15:26:34.694930Z",
     "start_time": "2023-05-24T15:26:34.669189Z"
    },
    "collapsed": false
   },
   "outputs": [],
   "source": [
    "import psutil\n",
    "import os\n",
    "from pathlib import Path\n",
    "from datetime import datetime\n",
    "import json"
   ]
  },
  {
   "cell_type": "code",
   "execution_count": 3,
   "metadata": {
    "ExecuteTime": {
     "end_time": "2023-05-24T15:26:37.418230Z",
     "start_time": "2023-05-24T15:26:34.679057Z"
    },
    "collapsed": false
   },
   "outputs": [
    {
     "name": "stderr",
     "output_type": "stream",
     "text": [
      "/Users/jeniamakarchik/opt/anaconda3/envs/dmt/lib/python3.9/site-packages/tqdm/auto.py:21: TqdmWarning: IProgress not found. Please update jupyter and ipywidgets. See https://ipywidgets.readthedocs.io/en/stable/user_install.html\n",
      "  from .autonotebook import tqdm as notebook_tqdm\n"
     ]
    }
   ],
   "source": [
    "import pandas as pd\n",
    "import numpy as np\n",
    "import lightgbm as lgb\n",
    "import optuna\n",
    "import pickle"
   ]
  },
  {
   "cell_type": "code",
   "execution_count": 4,
   "metadata": {
    "ExecuteTime": {
     "end_time": "2023-05-24T15:26:37.436513Z",
     "start_time": "2023-05-24T15:26:37.416377Z"
    }
   },
   "outputs": [],
   "source": [
    "from data import read_processed_train, read_processed_val, read_processed_test"
   ]
  },
  {
   "attachments": {},
   "cell_type": "markdown",
   "metadata": {},
   "source": [
    "### Read Data"
   ]
  },
  {
   "cell_type": "code",
   "execution_count": 95,
   "metadata": {
    "ExecuteTime": {
     "start_time": "2023-05-24T15:26:37.427546Z"
    },
    "is_executing": true
   },
   "outputs": [],
   "source": [
    "train_df = read_processed_train()\n",
    "val_df = read_processed_val()\n",
    "test_df = read_processed_test()"
   ]
  },
  {
   "cell_type": "code",
   "execution_count": 96,
   "metadata": {
    "collapsed": false,
    "is_executing": true
   },
   "outputs": [
    {
     "data": {
      "text/plain": [
       "((3966355, 35), (991992, 35), (4959183, 31))"
      ]
     },
     "execution_count": 96,
     "metadata": {},
     "output_type": "execute_result"
    }
   ],
   "source": [
    "train_df.shape, val_df.shape, test_df.shape"
   ]
  },
  {
   "attachments": {},
   "cell_type": "markdown",
   "metadata": {},
   "source": [
    "### Change Target"
   ]
  },
  {
   "attachments": {},
   "cell_type": "markdown",
   "metadata": {},
   "source": [
    "**Function Definitions**\n",
    "- Take in train_df or val_df and modify the target column\n",
    "- All columns can be used\n",
    "- Do not change the row order\n",
    "- **target must be an integer**"
   ]
  },
  {
   "cell_type": "code",
   "execution_count": 7,
   "metadata": {
    "is_executing": true
   },
   "outputs": [],
   "source": [
    "def base_target(df):\n",
    "    \"\"\"\n",
    "    Applies the weighting given in the assignment (no discounting)\n",
    "    \"\"\"\n",
    "    df['target'] = 0\n",
    "\n",
    "    mask = df['click_bool'] == 1\n",
    "    df.loc[mask, 'target'] = 1\n",
    "\n",
    "    mask = df['booking_bool'] == 1\n",
    "    df.loc[mask, 'target'] = 5\n",
    "\n",
    "    return df"
   ]
  },
  {
   "cell_type": "code",
   "execution_count": 8,
   "metadata": {
    "collapsed": false,
    "is_executing": true
   },
   "outputs": [
    {
     "data": {
      "text/plain": [
       "<Axes: >"
      ]
     },
     "execution_count": 8,
     "metadata": {},
     "output_type": "execute_result"
    },
    {
     "data": {
      "image/png": "[encoded data removed]",
      "text/plain": [
       "<Figure size 640x480 with 1 Axes>"
      ]
     },
     "metadata": {},
     "output_type": "display_data"
    }
   ],
   "source": [
    "train_df.position.hist()"
   ]
  },
  {
   "cell_type": "code",
   "execution_count": 9,
   "metadata": {
    "collapsed": false,
    "is_executing": true
   },
   "outputs": [
    {
     "data": {
      "text/plain": [
       "<Axes: >"
      ]
     },
     "execution_count": 9,
     "metadata": {},
     "output_type": "execute_result"
    },
    {
     "data": {
      "image/png": "[encoded data removed]",
      "text/plain": [
       "<Figure size 640x480 with 1 Axes>"
      ]
     },
     "metadata": {},
     "output_type": "display_data"
    }
   ],
   "source": [
    "(0.7/np.log(train_df.position + 1)).hist()"
   ]
  },
  {
   "cell_type": "code",
   "execution_count": 10,
   "metadata": {
    "collapsed": false,
    "is_executing": true
   },
   "outputs": [],
   "source": [
    "def target_position_bias(df, alpha=0.5):\n",
    "    \"\"\"\n",
    "    Apply positional bias on base target.\n",
    "\n",
    "    Args:\n",
    "        df (_type_): dataframe\n",
    "        alpha (float, optional): Scaling paramaeter for the positional bias. Bigger values makes the interval of ranks wider. Defaults to 0.5.\n",
    "\n",
    "    Returns:\n",
    "        _type_: _description_\n",
    "    \"\"\"\n",
    "    \n",
    "    df['target'] = 0.\n",
    "    df.loc[df['click_bool'] == 1, 'target'] = 4.\n",
    "    df.loc[df['booking_bool'] == 1, 'target'] = 10.\n",
    "\n",
    "    mask = df.random_bool == 0\n",
    "    df.loc[mask, 'target'] = df.loc[mask, 'target'] * alpha / np.log(df.loc[mask, 'position'] + 1)\n",
    "\n",
    "    df['target'] = np.clip(np.ceil(train_df.target), 0, 10) # rounds to the integer from right\n",
    "\n",
    "    return df\n"
   ]
  },
  {
   "cell_type": "code",
   "execution_count": 11,
   "metadata": {
    "is_executing": true
   },
   "outputs": [],
   "source": [
    "# Add others..."
   ]
  },
  {
   "attachments": {},
   "cell_type": "markdown",
   "metadata": {},
   "source": [
    "**Apply Functions**\n",
    "\n",
    "- Apply one of the above functions to train_df and val_df"
   ]
  },
  {
   "cell_type": "code",
   "execution_count": 97,
   "metadata": {
    "is_executing": true
   },
   "outputs": [],
   "source": [
    "# Choice of target function\n",
    "# target_func = target_position_bias\n",
    "target_func = base_target\n",
    "\n",
    "# ---------------------------------- #\n",
    "\n",
    "# Apply target function\n",
    "train_df = target_func(train_df)\n",
    "val_df = target_func(val_df)"
   ]
  },
  {
   "cell_type": "code",
   "execution_count": 61,
   "metadata": {
    "collapsed": false,
    "is_executing": true
   },
   "outputs": [
    {
     "data": {
      "text/plain": [
       "<Axes: >"
      ]
     },
     "execution_count": 61,
     "metadata": {},
     "output_type": "execute_result"
    },
    {
     "data": {
      "image/png": "[encoded data removed]",
      "text/plain": [
       "<Figure size 640x480 with 1 Axes>"
      ]
     },
     "metadata": {},
     "output_type": "display_data"
    }
   ],
   "source": [
    "train_df.target.hist()"
   ]
  },
  {
   "cell_type": "code",
   "execution_count": 62,
   "metadata": {
    "collapsed": false,
    "is_executing": true
   },
   "outputs": [
    {
     "data": {
      "text/plain": [
       "array([0, 5, 1])"
      ]
     },
     "execution_count": 62,
     "metadata": {},
     "output_type": "execute_result"
    }
   ],
   "source": [
    "train_df['target'].unique()"
   ]
  },
  {
   "attachments": {},
   "cell_type": "markdown",
   "metadata": {},
   "source": [
    "### Feature Engineering"
   ]
  },
  {
   "attachments": {},
   "cell_type": "markdown",
   "metadata": {},
   "source": [
    "**Function Defintions**\n",
    "- Take in a dataframe and modify/add columns\n",
    "- Must be applicable to train_df, val_df and test_df\n",
    "- Do not change the row order"
   ]
  },
  {
   "cell_type": "code",
   "execution_count": 98,
   "metadata": {
    "is_executing": true
   },
   "outputs": [],
   "source": [
    "def hour_day_month_year(df):\n",
    "    \"\"\"\n",
    "    Function to create day, month, year columns from date_time column.\n",
    "    \"\"\"\n",
    "    df['date_time'] = pd.to_datetime(df['date_time'])\n",
    "\n",
    "    df['hour'] = df['date_time'].dt.hour\n",
    "    df['day'] = df['date_time'].dt.day\n",
    "    df['month'] = df['date_time'].dt.month\n",
    "    df['year'] = df['date_time'].dt.year\n",
    "\n",
    "    return df"
   ]
  },
  {
   "cell_type": "code",
   "execution_count": 67,
   "metadata": {
    "is_executing": true
   },
   "outputs": [],
   "source": [
    "# Add others..."
   ]
  },
  {
   "attachments": {},
   "cell_type": "markdown",
   "metadata": {},
   "source": [
    "**Apply Functions**\n",
    "\n",
    "- Apply some combination of the above functions to train_df, val_df and test_df"
   ]
  },
  {
   "cell_type": "code",
   "execution_count": 99,
   "metadata": {
    "is_executing": true
   },
   "outputs": [],
   "source": [
    "# List of functions to apply in order\n",
    "feature_functions = [hour_day_month_year]\n",
    "\n",
    "# ---------------------------------- #\n",
    "\n",
    "# Apply listed functions\n",
    "for func in feature_functions:\n",
    "    train_df = func(train_df)\n",
    "    val_df = func(val_df)\n",
    "    test_df = func(test_df)"
   ]
  },
  {
   "attachments": {},
   "cell_type": "markdown",
   "metadata": {},
   "source": [
    "### Final Data Preparation\n",
    "\n",
    "Removing unwanted columns and preparing the data for the model"
   ]
  },
  {
   "cell_type": "code",
   "execution_count": 100,
   "metadata": {},
   "outputs": [
    {
     "data": {
      "text/plain": [
       "Index(['srch_id', 'date_time', 'site_id', 'visitor_location_country_id',\n",
       "       'prop_country_id', 'prop_id', 'prop_starrating', 'prop_review_score',\n",
       "       'prop_brand_bool', 'prop_location_score1', 'prop_location_score2',\n",
       "       'prop_log_historical_price', 'price_usd', 'promotion_flag',\n",
       "       'srch_destination_id', 'srch_length_of_stay', 'srch_booking_window',\n",
       "       'srch_adults_count', 'srch_children_count', 'srch_room_count',\n",
       "       'srch_saturday_night_bool', 'orig_destination_distance', 'random_bool',\n",
       "       'comp2_rate', 'comp2_inv', 'comp3_rate', 'comp3_inv', 'comp5_rate',\n",
       "       'comp5_inv', 'comp8_rate', 'comp8_inv', 'hour', 'day', 'month', 'year'],\n",
       "      dtype='object')"
      ]
     },
     "execution_count": 100,
     "metadata": {},
     "output_type": "execute_result"
    }
   ],
   "source": [
    "test_df.columns"
   ]
  },
  {
   "cell_type": "code",
   "execution_count": 101,
   "metadata": {
    "is_executing": true
   },
   "outputs": [
    {
     "name": "stdout",
     "output_type": "stream",
     "text": [
      "32\n",
      "32\n",
      "set()\n"
     ]
    }
   ],
   "source": [
    "# Specify additional columns to remove\n",
    "add_drop_cols = ['srch_id', 'date_time', 'prop_id']\n",
    "\n",
    "# ---------------------------------- #\n",
    "\n",
    "# Remove columns that won't be used as features\n",
    "train_only_cols = ['position', 'click_bool', 'booking_bool', 'target'] + add_drop_cols\n",
    "\n",
    "# Train data\n",
    "group_train = train_df.groupby(\"srch_id\")[\"srch_id\"].count().to_numpy()\n",
    "X_train = train_df.drop(columns=train_only_cols)\n",
    "y_train = train_df['target'].astype(int)\n",
    "\n",
    "print(len(X_train.columns))\n",
    "\n",
    "# Validation data\n",
    "group_val = val_df.groupby(\"srch_id\")[\"srch_id\"].count().to_numpy()\n",
    "X_val = val_df.drop(columns=train_only_cols)\n",
    "y_val = val_df['target'].astype(int)\n",
    "\n",
    "# Test data\n",
    "X_test = test_df.copy()\n",
    "X_test = X_test.drop(columns=add_drop_cols)\n",
    "print(len(X_test.columns))\n",
    "print(set(X_test) - set(X_train))\n",
    "X_test = X_test.to_numpy(copy=True)"
   ]
  },
  {
   "attachments": {},
   "cell_type": "markdown",
   "metadata": {},
   "source": [
    "### Tuning"
   ]
  },
  {
   "cell_type": "code",
   "execution_count": 70,
   "metadata": {
    "ExecuteTime": {
     "end_time": "2023-05-24T14:49:11.725766Z",
     "start_time": "2023-05-24T14:49:11.721566Z"
    }
   },
   "outputs": [],
   "source": [
    "# Create the folder to store the results of the tuning\n",
    "tune_folder_path = Path(\"./tuned_models/\" + datetime.now().strftime(\"%Y%m%d_%H%M%S\"))\n",
    "tune_folder_path.mkdir(parents=True, exist_ok=True)"
   ]
  },
  {
   "attachments": {},
   "cell_type": "markdown",
   "metadata": {},
   "source": [
    "Constant hyperparameters"
   ]
  },
  {
   "cell_type": "code",
   "execution_count": 71,
   "metadata": {
    "ExecuteTime": {
     "end_time": "2023-05-24T14:49:11.780231Z",
     "start_time": "2023-05-24T14:49:11.728671Z"
    },
    "collapsed": false
   },
   "outputs": [
    {
     "name": "stdout",
     "output_type": "stream",
     "text": [
      "Gain labels: [0, 1, 2, 3, 4, 5]\n"
     ]
    }
   ],
   "source": [
    "print(f'Gain labels: {[i for i in range(max(y_train.max(), y_val.max()) + 1)]}')"
   ]
  },
  {
   "cell_type": "code",
   "execution_count": 72,
   "metadata": {
    "ExecuteTime": {
     "end_time": "2023-05-24T14:49:11.808128Z",
     "start_time": "2023-05-24T14:49:11.783829Z"
    }
   },
   "outputs": [],
   "source": [
    "const_params = {\n",
    "    \"objective\": \"lambdarank\",\n",
    "    \"boosting_type\": \"gbdt\",\n",
    "    \"metric\": \"ndcg\",\n",
    "    \"n_estimators\": NUM_ITERATIONS,\n",
    "    'max_depth': -1,\n",
    "    \"importance_type\": \"gain\",\n",
    "    \"label_gain\": [i for i in range(max(y_train.max(), y_val.max()) + 1)],\n",
    "    \"bagging_freq\": 1,\n",
    "    \"n_jobs\": psutil.cpu_count(logical=False) - 1,\n",
    "    \"verbosity\": -1,\n",
    "    # new params\n",
    "    \"early_stopping_round\": 50,\n",
    "    \"bagging_freq\": 5,\n",
    "    }"
   ]
  },
  {
   "attachments": {},
   "cell_type": "markdown",
   "metadata": {},
   "source": [
    "Define the objective"
   ]
  },
  {
   "attachments": {},
   "cell_type": "markdown",
   "metadata": {},
   "source": [
    "- num_leaves: [10, 40]\n",
    "- learning_rate: [0.0005, 0.01]\n",
    "- min_data_in_leaf: [100, 5000]\n",
    "- min_gain_to_split: [0.01, 1]\n",
    "- bagging_fraction: [0.2, 0.85]\n",
    "- feature_fraction: [0.2, 1]\n"
   ]
  },
  {
   "cell_type": "code",
   "execution_count": 73,
   "metadata": {
    "ExecuteTime": {
     "end_time": "2023-05-24T14:49:11.844869Z",
     "start_time": "2023-05-24T14:49:11.793203Z"
    }
   },
   "outputs": [],
   "source": [
    "def objective(trial):\n",
    "    tuned_params = {\n",
    "        \"num_leaves\": trial.suggest_int(\"num_leaves\", 10, 40),\n",
    "        \"learning_rate\": trial.suggest_float(\"learning_rate\", 5e-4, 0.01, log=True),\n",
    "        \"min_data_in_leaf\": trial.suggest_int(\"min_data_in_leaf\", 100, 5000),\n",
    "        \"bagging_fraction\": trial.suggest_float(\"bagging_fraction\", 0.2, 0.85),\n",
    "        \"feature_fraction\": trial.suggest_float(\"feature_fraction\", 0.2, 1),\n",
    "        \"min_gain_to_split\": trial.suggest_float(\"min_gain_to_split\", 0.01, 1, log=True),\n",
    "    }\n",
    "\n",
    "    params = const_params | tuned_params\n",
    "\n",
    "    model = lgb.LGBMRanker(**params)\n",
    "    model.fit(\n",
    "        X=X_train,\n",
    "        y=y_train,\n",
    "        group=group_train,\n",
    "        eval_set=[(X_train, y_train),(X_val, y_val)],\n",
    "        eval_group=[group_train, group_val],\n",
    "        eval_at=[K], # k for NDCG@k\n",
    "        verbose=False,\n",
    "      )\n",
    "    \n",
    "    # Save the trained model\n",
    "    with open(tune_folder_path / f\"trial_{trial.number}.pkl\", \"wb\") as f:\n",
    "        pickle.dump(model, f)\n",
    "\n",
    "    best_val_score = model.best_score_['valid_1'][f'ndcg@{K}']\n",
    "    return best_val_score"
   ]
  },
  {
   "attachments": {},
   "cell_type": "markdown",
   "metadata": {},
   "source": [
    "Optimise the objective"
   ]
  },
  {
   "cell_type": "code",
   "execution_count": 74,
   "metadata": {
    "ExecuteTime": {
     "start_time": "2023-05-24T14:49:11.808750Z"
    }
   },
   "outputs": [
    {
     "name": "stderr",
     "output_type": "stream",
     "text": [
      "\u001b[32m[I 2023-05-25 11:51:17,457]\u001b[0m A new study created in memory with name: no-name-1a730326-f0b3-48a4-8668-34834b71de4e\u001b[0m\n",
      "/Users/jeniamakarchik/opt/anaconda3/envs/dmt/lib/python3.9/site-packages/lightgbm/sklearn.py:736: UserWarning: 'verbose' argument is deprecated and will be removed in a future release of LightGBM. Pass 'log_evaluation()' callback via 'callbacks' argument instead.\n",
      "  _log_warning(\"'verbose' argument is deprecated and will be removed in a future release of LightGBM. \"\n"
     ]
    },
    {
     "name": "stdout",
     "output_type": "stream",
     "text": [
      "[LightGBM] [Warning] feature_fraction is set=0.9815786344402007, colsample_bytree=1.0 will be ignored. Current value: feature_fraction=0.9815786344402007\n",
      "[LightGBM] [Warning] bagging_freq is set=5, subsample_freq=0 will be ignored. Current value: bagging_freq=5\n",
      "[LightGBM] [Warning] min_data_in_leaf is set=4036, min_child_samples=20 will be ignored. Current value: min_data_in_leaf=4036\n",
      "[LightGBM] [Warning] bagging_fraction is set=0.8862646886027228, subsample=1.0 will be ignored. Current value: bagging_fraction=0.8862646886027228\n",
      "[LightGBM] [Warning] min_gain_to_split is set=0.48205615905509597, min_split_gain=0.0 will be ignored. Current value: min_gain_to_split=0.48205615905509597\n"
     ]
    },
    {
     "name": "stderr",
     "output_type": "stream",
     "text": [
      "\u001b[32m[I 2023-05-25 11:55:09,239]\u001b[0m Trial 0 finished with value: 0.3683709042504294 and parameters: {'num_leaves': 282, 'learning_rate': 0.0005661622851697973, 'min_data_in_leaf': 4036, 'bagging_fraction': 0.8862646886027228, 'feature_fraction': 0.9815786344402007, 'min_gain_to_split': 0.48205615905509597}. Best is trial 0 with value: 0.3683709042504294.\u001b[0m\n",
      "/Users/jeniamakarchik/opt/anaconda3/envs/dmt/lib/python3.9/site-packages/lightgbm/sklearn.py:736: UserWarning: 'verbose' argument is deprecated and will be removed in a future release of LightGBM. Pass 'log_evaluation()' callback via 'callbacks' argument instead.\n",
      "  _log_warning(\"'verbose' argument is deprecated and will be removed in a future release of LightGBM. \"\n",
      "\u001b[32m[I 2023-05-25 11:56:32,231]\u001b[0m Trial 1 finished with value: 0.3673783114264427 and parameters: {'num_leaves': 140, 'learning_rate': 0.008965022847945989, 'min_data_in_leaf': 4389, 'bagging_fraction': 0.20514727977448868, 'feature_fraction': 0.9551778631296386, 'min_gain_to_split': 0.02149887912542473}. Best is trial 0 with value: 0.3683709042504294.\u001b[0m\n",
      "/Users/jeniamakarchik/opt/anaconda3/envs/dmt/lib/python3.9/site-packages/lightgbm/sklearn.py:736: UserWarning: 'verbose' argument is deprecated and will be removed in a future release of LightGBM. Pass 'log_evaluation()' callback via 'callbacks' argument instead.\n",
      "  _log_warning(\"'verbose' argument is deprecated and will be removed in a future release of LightGBM. \"\n",
      "\u001b[32m[I 2023-05-25 11:58:26,944]\u001b[0m Trial 2 finished with value: 0.37131817343896956 and parameters: {'num_leaves': 472, 'learning_rate': 0.0005090978389321266, 'min_data_in_leaf': 4949, 'bagging_fraction': 0.31382066857988816, 'feature_fraction': 0.411697734667512, 'min_gain_to_split': 0.4670550497546736}. Best is trial 2 with value: 0.37131817343896956.\u001b[0m\n",
      "/Users/jeniamakarchik/opt/anaconda3/envs/dmt/lib/python3.9/site-packages/lightgbm/sklearn.py:736: UserWarning: 'verbose' argument is deprecated and will be removed in a future release of LightGBM. Pass 'log_evaluation()' callback via 'callbacks' argument instead.\n",
      "  _log_warning(\"'verbose' argument is deprecated and will be removed in a future release of LightGBM. \"\n",
      "\u001b[32m[I 2023-05-25 12:01:33,162]\u001b[0m Trial 3 finished with value: 0.3753793249342279 and parameters: {'num_leaves': 366, 'learning_rate': 0.0006278721185750794, 'min_data_in_leaf': 4367, 'bagging_fraction': 0.8943313567343101, 'feature_fraction': 0.5325262028000228, 'min_gain_to_split': 0.06658775654145857}. Best is trial 3 with value: 0.3753793249342279.\u001b[0m\n",
      "/Users/jeniamakarchik/opt/anaconda3/envs/dmt/lib/python3.9/site-packages/lightgbm/sklearn.py:736: UserWarning: 'verbose' argument is deprecated and will be removed in a future release of LightGBM. Pass 'log_evaluation()' callback via 'callbacks' argument instead.\n",
      "  _log_warning(\"'verbose' argument is deprecated and will be removed in a future release of LightGBM. \"\n",
      "\u001b[32m[I 2023-05-25 12:03:50,140]\u001b[0m Trial 4 finished with value: 0.368232883266918 and parameters: {'num_leaves': 310, 'learning_rate': 0.0018095270996138523, 'min_data_in_leaf': 3231, 'bagging_fraction': 0.7138609134316314, 'feature_fraction': 0.2738105403364916, 'min_gain_to_split': 0.2888272399211625}. Best is trial 3 with value: 0.3753793249342279.\u001b[0m\n",
      "/Users/jeniamakarchik/opt/anaconda3/envs/dmt/lib/python3.9/site-packages/lightgbm/sklearn.py:736: UserWarning: 'verbose' argument is deprecated and will be removed in a future release of LightGBM. Pass 'log_evaluation()' callback via 'callbacks' argument instead.\n",
      "  _log_warning(\"'verbose' argument is deprecated and will be removed in a future release of LightGBM. \"\n",
      "\u001b[32m[I 2023-05-25 12:05:44,900]\u001b[0m Trial 5 finished with value: 0.3700561615791739 and parameters: {'num_leaves': 500, 'learning_rate': 0.001721339863121655, 'min_data_in_leaf': 3818, 'bagging_fraction': 0.4173786000731181, 'feature_fraction': 0.850798613967011, 'min_gain_to_split': 0.06928513908437947}. Best is trial 3 with value: 0.3753793249342279.\u001b[0m\n",
      "/Users/jeniamakarchik/opt/anaconda3/envs/dmt/lib/python3.9/site-packages/lightgbm/sklearn.py:736: UserWarning: 'verbose' argument is deprecated and will be removed in a future release of LightGBM. Pass 'log_evaluation()' callback via 'callbacks' argument instead.\n",
      "  _log_warning(\"'verbose' argument is deprecated and will be removed in a future release of LightGBM. \"\n",
      "\u001b[32m[I 2023-05-25 12:08:24,727]\u001b[0m Trial 6 finished with value: 0.3759161299325019 and parameters: {'num_leaves': 436, 'learning_rate': 0.0017122458015239137, 'min_data_in_leaf': 1734, 'bagging_fraction': 0.5669017735135577, 'feature_fraction': 0.41731457008033335, 'min_gain_to_split': 0.38687540946491744}. Best is trial 6 with value: 0.3759161299325019.\u001b[0m\n",
      "/Users/jeniamakarchik/opt/anaconda3/envs/dmt/lib/python3.9/site-packages/lightgbm/sklearn.py:736: UserWarning: 'verbose' argument is deprecated and will be removed in a future release of LightGBM. Pass 'log_evaluation()' callback via 'callbacks' argument instead.\n",
      "  _log_warning(\"'verbose' argument is deprecated and will be removed in a future release of LightGBM. \"\n",
      "\u001b[32m[I 2023-05-25 12:11:28,148]\u001b[0m Trial 7 finished with value: 0.3549949756834684 and parameters: {'num_leaves': 310, 'learning_rate': 0.0005910324142562365, 'min_data_in_leaf': 3209, 'bagging_fraction': 0.8078057833381134, 'feature_fraction': 0.25587489627272025, 'min_gain_to_split': 0.18685970253000053}. Best is trial 6 with value: 0.3759161299325019.\u001b[0m\n",
      "/Users/jeniamakarchik/opt/anaconda3/envs/dmt/lib/python3.9/site-packages/lightgbm/sklearn.py:736: UserWarning: 'verbose' argument is deprecated and will be removed in a future release of LightGBM. Pass 'log_evaluation()' callback via 'callbacks' argument instead.\n",
      "  _log_warning(\"'verbose' argument is deprecated and will be removed in a future release of LightGBM. \"\n",
      "\u001b[32m[I 2023-05-25 12:13:59,887]\u001b[0m Trial 8 finished with value: 0.37599639022379183 and parameters: {'num_leaves': 202, 'learning_rate': 0.0018051939190615659, 'min_data_in_leaf': 3596, 'bagging_fraction': 0.9223424765376711, 'feature_fraction': 0.3792182823341058, 'min_gain_to_split': 0.026884026060895124}. Best is trial 8 with value: 0.37599639022379183.\u001b[0m\n",
      "/Users/jeniamakarchik/opt/anaconda3/envs/dmt/lib/python3.9/site-packages/lightgbm/sklearn.py:736: UserWarning: 'verbose' argument is deprecated and will be removed in a future release of LightGBM. Pass 'log_evaluation()' callback via 'callbacks' argument instead.\n",
      "  _log_warning(\"'verbose' argument is deprecated and will be removed in a future release of LightGBM. \"\n",
      "\u001b[32m[I 2023-05-25 12:15:56,748]\u001b[0m Trial 9 finished with value: 0.36710792750204513 and parameters: {'num_leaves': 118, 'learning_rate': 0.0008644548081947712, 'min_data_in_leaf': 3769, 'bagging_fraction': 0.769988599437897, 'feature_fraction': 0.8386996994178888, 'min_gain_to_split': 0.011448714173164832}. Best is trial 8 with value: 0.37599639022379183.\u001b[0m\n",
      "/Users/jeniamakarchik/opt/anaconda3/envs/dmt/lib/python3.9/site-packages/lightgbm/sklearn.py:736: UserWarning: 'verbose' argument is deprecated and will be removed in a future release of LightGBM. Pass 'log_evaluation()' callback via 'callbacks' argument instead.\n",
      "  _log_warning(\"'verbose' argument is deprecated and will be removed in a future release of LightGBM. \"\n",
      "\u001b[32m[I 2023-05-25 12:17:25,602]\u001b[0m Trial 10 finished with value: 0.361715828951416 and parameters: {'num_leaves': 18, 'learning_rate': 0.003630203536778106, 'min_data_in_leaf': 181, 'bagging_fraction': 0.9688235131576363, 'feature_fraction': 0.670329060773752, 'min_gain_to_split': 0.9716329070512989}. Best is trial 8 with value: 0.37599639022379183.\u001b[0m\n",
      "/Users/jeniamakarchik/opt/anaconda3/envs/dmt/lib/python3.9/site-packages/lightgbm/sklearn.py:736: UserWarning: 'verbose' argument is deprecated and will be removed in a future release of LightGBM. Pass 'log_evaluation()' callback via 'callbacks' argument instead.\n",
      "  _log_warning(\"'verbose' argument is deprecated and will be removed in a future release of LightGBM. \"\n",
      "\u001b[32m[I 2023-05-25 12:19:36,416]\u001b[0m Trial 11 finished with value: 0.37405903200492807 and parameters: {'num_leaves': 176, 'learning_rate': 0.001322774784046972, 'min_data_in_leaf': 1624, 'bagging_fraction': 0.5820692120353137, 'feature_fraction': 0.4039521766655154, 'min_gain_to_split': 0.035952613549515386}. Best is trial 8 with value: 0.37599639022379183.\u001b[0m\n",
      "/Users/jeniamakarchik/opt/anaconda3/envs/dmt/lib/python3.9/site-packages/lightgbm/sklearn.py:736: UserWarning: 'verbose' argument is deprecated and will be removed in a future release of LightGBM. Pass 'log_evaluation()' callback via 'callbacks' argument instead.\n",
      "  _log_warning(\"'verbose' argument is deprecated and will be removed in a future release of LightGBM. \"\n",
      "\u001b[32m[I 2023-05-25 12:22:15,064]\u001b[0m Trial 12 finished with value: 0.37721898654698627 and parameters: {'num_leaves': 408, 'learning_rate': 0.0023178364845778078, 'min_data_in_leaf': 1757, 'bagging_fraction': 0.6677093487157941, 'feature_fraction': 0.41952796846503204, 'min_gain_to_split': 0.15890113360669555}. Best is trial 12 with value: 0.37721898654698627.\u001b[0m\n",
      "/Users/jeniamakarchik/opt/anaconda3/envs/dmt/lib/python3.9/site-packages/lightgbm/sklearn.py:736: UserWarning: 'verbose' argument is deprecated and will be removed in a future release of LightGBM. Pass 'log_evaluation()' callback via 'callbacks' argument instead.\n",
      "  _log_warning(\"'verbose' argument is deprecated and will be removed in a future release of LightGBM. \"\n",
      "\u001b[32m[I 2023-05-25 12:25:04,838]\u001b[0m Trial 13 finished with value: 0.37596125725857954 and parameters: {'num_leaves': 208, 'learning_rate': 0.0033909564399948982, 'min_data_in_leaf': 2090, 'bagging_fraction': 0.9858480981454271, 'feature_fraction': 0.5691815838101707, 'min_gain_to_split': 0.11508021955247054}. Best is trial 12 with value: 0.37721898654698627.\u001b[0m\n",
      "/Users/jeniamakarchik/opt/anaconda3/envs/dmt/lib/python3.9/site-packages/lightgbm/sklearn.py:736: UserWarning: 'verbose' argument is deprecated and will be removed in a future release of LightGBM. Pass 'log_evaluation()' callback via 'callbacks' argument instead.\n",
      "  _log_warning(\"'verbose' argument is deprecated and will be removed in a future release of LightGBM. \"\n",
      "\u001b[32m[I 2023-05-25 12:28:04,146]\u001b[0m Trial 14 finished with value: 0.35432965583582005 and parameters: {'num_leaves': 388, 'learning_rate': 0.002861949339098813, 'min_data_in_leaf': 886, 'bagging_fraction': 0.6821647727384827, 'feature_fraction': 0.20071134411514902, 'min_gain_to_split': 0.03786288864228372}. Best is trial 12 with value: 0.37721898654698627.\u001b[0m\n",
      "/Users/jeniamakarchik/opt/anaconda3/envs/dmt/lib/python3.9/site-packages/lightgbm/sklearn.py:736: UserWarning: 'verbose' argument is deprecated and will be removed in a future release of LightGBM. Pass 'log_evaluation()' callback via 'callbacks' argument instead.\n",
      "  _log_warning(\"'verbose' argument is deprecated and will be removed in a future release of LightGBM. \"\n",
      "\u001b[32m[I 2023-05-25 12:30:28,318]\u001b[0m Trial 15 finished with value: 0.37462194365400775 and parameters: {'num_leaves': 230, 'learning_rate': 0.0010946657447653168, 'min_data_in_leaf': 2634, 'bagging_fraction': 0.6572820607400428, 'feature_fraction': 0.3479309557320435, 'min_gain_to_split': 0.14905650262279507}. Best is trial 12 with value: 0.37721898654698627.\u001b[0m\n",
      "/Users/jeniamakarchik/opt/anaconda3/envs/dmt/lib/python3.9/site-packages/lightgbm/sklearn.py:736: UserWarning: 'verbose' argument is deprecated and will be removed in a future release of LightGBM. Pass 'log_evaluation()' callback via 'callbacks' argument instead.\n",
      "  _log_warning(\"'verbose' argument is deprecated and will be removed in a future release of LightGBM. \"\n",
      "\u001b[32m[I 2023-05-25 12:32:29,279]\u001b[0m Trial 16 finished with value: 0.3710033984533864 and parameters: {'num_leaves': 64, 'learning_rate': 0.0024785623595315943, 'min_data_in_leaf': 2455, 'bagging_fraction': 0.504429519460704, 'feature_fraction': 0.4825437483824398, 'min_gain_to_split': 0.0915820457871007}. Best is trial 12 with value: 0.37721898654698627.\u001b[0m\n",
      "/Users/jeniamakarchik/opt/anaconda3/envs/dmt/lib/python3.9/site-packages/lightgbm/sklearn.py:736: UserWarning: 'verbose' argument is deprecated and will be removed in a future release of LightGBM. Pass 'log_evaluation()' callback via 'callbacks' argument instead.\n",
      "  _log_warning(\"'verbose' argument is deprecated and will be removed in a future release of LightGBM. \"\n",
      "\u001b[32m[I 2023-05-25 12:34:56,404]\u001b[0m Trial 17 finished with value: 0.3773348026505808 and parameters: {'num_leaves': 362, 'learning_rate': 0.004536182433264564, 'min_data_in_leaf': 1229, 'bagging_fraction': 0.8574531891296657, 'feature_fraction': 0.6436295362170117, 'min_gain_to_split': 0.04407349427899845}. Best is trial 17 with value: 0.3773348026505808.\u001b[0m\n",
      "/Users/jeniamakarchik/opt/anaconda3/envs/dmt/lib/python3.9/site-packages/lightgbm/sklearn.py:736: UserWarning: 'verbose' argument is deprecated and will be removed in a future release of LightGBM. Pass 'log_evaluation()' callback via 'callbacks' argument instead.\n",
      "  _log_warning(\"'verbose' argument is deprecated and will be removed in a future release of LightGBM. \"\n",
      "\u001b[32m[I 2023-05-25 12:38:29,265]\u001b[0m Trial 18 finished with value: 0.3790019749199386 and parameters: {'num_leaves': 380, 'learning_rate': 0.00497673213671608, 'min_data_in_leaf': 1093, 'bagging_fraction': 0.8254369512168589, 'feature_fraction': 0.6804902331985989, 'min_gain_to_split': 0.06686796962102548}. Best is trial 18 with value: 0.3790019749199386.\u001b[0m\n",
      "/Users/jeniamakarchik/opt/anaconda3/envs/dmt/lib/python3.9/site-packages/lightgbm/sklearn.py:736: UserWarning: 'verbose' argument is deprecated and will be removed in a future release of LightGBM. Pass 'log_evaluation()' callback via 'callbacks' argument instead.\n",
      "  _log_warning(\"'verbose' argument is deprecated and will be removed in a future release of LightGBM. \"\n",
      "\u001b[32m[I 2023-05-25 12:41:49,068]\u001b[0m Trial 19 finished with value: 0.37802030404845904 and parameters: {'num_leaves': 344, 'learning_rate': 0.0048675452540270355, 'min_data_in_leaf': 959, 'bagging_fraction': 0.8160594225128853, 'feature_fraction': 0.6562502799773912, 'min_gain_to_split': 0.054591708034880684}. Best is trial 18 with value: 0.3790019749199386.\u001b[0m\n",
      "/Users/jeniamakarchik/opt/anaconda3/envs/dmt/lib/python3.9/site-packages/lightgbm/sklearn.py:736: UserWarning: 'verbose' argument is deprecated and will be removed in a future release of LightGBM. Pass 'log_evaluation()' callback via 'callbacks' argument instead.\n",
      "  _log_warning(\"'verbose' argument is deprecated and will be removed in a future release of LightGBM. \"\n",
      "\u001b[32m[I 2023-05-25 12:44:59,125]\u001b[0m Trial 20 finished with value: 0.3784764963346626 and parameters: {'num_leaves': 314, 'learning_rate': 0.005601351257408612, 'min_data_in_leaf': 328, 'bagging_fraction': 0.7997310270249864, 'feature_fraction': 0.7100835015245285, 'min_gain_to_split': 0.05884438660285474}. Best is trial 18 with value: 0.3790019749199386.\u001b[0m\n",
      "/Users/jeniamakarchik/opt/anaconda3/envs/dmt/lib/python3.9/site-packages/lightgbm/sklearn.py:736: UserWarning: 'verbose' argument is deprecated and will be removed in a future release of LightGBM. Pass 'log_evaluation()' callback via 'callbacks' argument instead.\n",
      "  _log_warning(\"'verbose' argument is deprecated and will be removed in a future release of LightGBM. \"\n",
      "\u001b[32m[I 2023-05-25 12:48:02,244]\u001b[0m Trial 21 finished with value: 0.37851304842062816 and parameters: {'num_leaves': 332, 'learning_rate': 0.005735467179520895, 'min_data_in_leaf': 343, 'bagging_fraction': 0.7557895869125231, 'feature_fraction': 0.702493850672185, 'min_gain_to_split': 0.05880347139158149}. Best is trial 18 with value: 0.3790019749199386.\u001b[0m\n",
      "/Users/jeniamakarchik/opt/anaconda3/envs/dmt/lib/python3.9/site-packages/lightgbm/sklearn.py:736: UserWarning: 'verbose' argument is deprecated and will be removed in a future release of LightGBM. Pass 'log_evaluation()' callback via 'callbacks' argument instead.\n",
      "  _log_warning(\"'verbose' argument is deprecated and will be removed in a future release of LightGBM. \"\n",
      "\u001b[32m[I 2023-05-25 12:50:59,422]\u001b[0m Trial 22 finished with value: 0.3778420419754113 and parameters: {'num_leaves': 256, 'learning_rate': 0.006528587350286882, 'min_data_in_leaf': 332, 'bagging_fraction': 0.7518147666336257, 'feature_fraction': 0.7392712544126888, 'min_gain_to_split': 0.08477044786037072}. Best is trial 18 with value: 0.3790019749199386.\u001b[0m\n",
      "/Users/jeniamakarchik/opt/anaconda3/envs/dmt/lib/python3.9/site-packages/lightgbm/sklearn.py:736: UserWarning: 'verbose' argument is deprecated and will be removed in a future release of LightGBM. Pass 'log_evaluation()' callback via 'callbacks' argument instead.\n",
      "  _log_warning(\"'verbose' argument is deprecated and will be removed in a future release of LightGBM. \"\n",
      "\u001b[32m[I 2023-05-25 12:54:49,168]\u001b[0m Trial 23 finished with value: 0.37957362037079073 and parameters: {'num_leaves': 442, 'learning_rate': 0.006078828137595815, 'min_data_in_leaf': 581, 'bagging_fraction': 0.8084110092963722, 'feature_fraction': 0.735542999003128, 'min_gain_to_split': 0.055624676157650994}. Best is trial 23 with value: 0.37957362037079073.\u001b[0m\n",
      "/Users/jeniamakarchik/opt/anaconda3/envs/dmt/lib/python3.9/site-packages/lightgbm/sklearn.py:736: UserWarning: 'verbose' argument is deprecated and will be removed in a future release of LightGBM. Pass 'log_evaluation()' callback via 'callbacks' argument instead.\n",
      "  _log_warning(\"'verbose' argument is deprecated and will be removed in a future release of LightGBM. \"\n",
      "\u001b[32m[I 2023-05-25 13:00:08,245]\u001b[0m Trial 24 finished with value: 0.37945495129650886 and parameters: {'num_leaves': 442, 'learning_rate': 0.007789309206348137, 'min_data_in_leaf': 715, 'bagging_fraction': 0.7516348541122346, 'feature_fraction': 0.7679426931228164, 'min_gain_to_split': 0.10537827921800187}. Best is trial 23 with value: 0.37957362037079073.\u001b[0m\n",
      "/Users/jeniamakarchik/opt/anaconda3/envs/dmt/lib/python3.9/site-packages/lightgbm/sklearn.py:736: UserWarning: 'verbose' argument is deprecated and will be removed in a future release of LightGBM. Pass 'log_evaluation()' callback via 'callbacks' argument instead.\n",
      "  _log_warning(\"'verbose' argument is deprecated and will be removed in a future release of LightGBM. \"\n",
      "\u001b[32m[I 2023-05-25 13:06:15,916]\u001b[0m Trial 25 finished with value: 0.3802316873463028 and parameters: {'num_leaves': 442, 'learning_rate': 0.009891508503247774, 'min_data_in_leaf': 823, 'bagging_fraction': 0.8438473120923842, 'feature_fraction': 0.773573859481544, 'min_gain_to_split': 0.0916649977988787}. Best is trial 25 with value: 0.3802316873463028.\u001b[0m\n",
      "/Users/jeniamakarchik/opt/anaconda3/envs/dmt/lib/python3.9/site-packages/lightgbm/sklearn.py:736: UserWarning: 'verbose' argument is deprecated and will be removed in a future release of LightGBM. Pass 'log_evaluation()' callback via 'callbacks' argument instead.\n",
      "  _log_warning(\"'verbose' argument is deprecated and will be removed in a future release of LightGBM. \"\n",
      "\u001b[32m[I 2023-05-25 13:11:17,431]\u001b[0m Trial 26 finished with value: 0.37983241983459876 and parameters: {'num_leaves': 444, 'learning_rate': 0.00916400006437048, 'min_data_in_leaf': 671, 'bagging_fraction': 0.8569938815789766, 'feature_fraction': 0.7776555201760582, 'min_gain_to_split': 0.1172738357509703}. Best is trial 25 with value: 0.3802316873463028.\u001b[0m\n",
      "/Users/jeniamakarchik/opt/anaconda3/envs/dmt/lib/python3.9/site-packages/lightgbm/sklearn.py:736: UserWarning: 'verbose' argument is deprecated and will be removed in a future release of LightGBM. Pass 'log_evaluation()' callback via 'callbacks' argument instead.\n",
      "  _log_warning(\"'verbose' argument is deprecated and will be removed in a future release of LightGBM. \"\n",
      "\u001b[32m[I 2023-05-25 13:17:14,332]\u001b[0m Trial 27 finished with value: 0.3801540033106787 and parameters: {'num_leaves': 510, 'learning_rate': 0.009430604795644741, 'min_data_in_leaf': 1352, 'bagging_fraction': 0.923631394428103, 'feature_fraction': 0.7997877188856382, 'min_gain_to_split': 0.1188124182058135}. Best is trial 25 with value: 0.3802316873463028.\u001b[0m\n",
      "/Users/jeniamakarchik/opt/anaconda3/envs/dmt/lib/python3.9/site-packages/lightgbm/sklearn.py:736: UserWarning: 'verbose' argument is deprecated and will be removed in a future release of LightGBM. Pass 'log_evaluation()' callback via 'callbacks' argument instead.\n",
      "  _log_warning(\"'verbose' argument is deprecated and will be removed in a future release of LightGBM. \"\n",
      "\u001b[32m[I 2023-05-25 13:24:17,663]\u001b[0m Trial 28 finished with value: 0.3797788728529333 and parameters: {'num_leaves': 510, 'learning_rate': 0.009738266469767222, 'min_data_in_leaf': 1393, 'bagging_fraction': 0.9318332572407922, 'feature_fraction': 0.8016039574330698, 'min_gain_to_split': 0.2020505964199614}. Best is trial 25 with value: 0.3802316873463028.\u001b[0m\n",
      "/Users/jeniamakarchik/opt/anaconda3/envs/dmt/lib/python3.9/site-packages/lightgbm/sklearn.py:736: UserWarning: 'verbose' argument is deprecated and will be removed in a future release of LightGBM. Pass 'log_evaluation()' callback via 'callbacks' argument instead.\n",
      "  _log_warning(\"'verbose' argument is deprecated and will be removed in a future release of LightGBM. \"\n",
      "\u001b[32m[I 2023-05-25 13:30:27,892]\u001b[0m Trial 29 finished with value: 0.37783865472364775 and parameters: {'num_leaves': 476, 'learning_rate': 0.0077984907189969374, 'min_data_in_leaf': 1359, 'bagging_fraction': 0.867977612862168, 'feature_fraction': 0.9123655748805661, 'min_gain_to_split': 0.11746204488222288}. Best is trial 25 with value: 0.3802316873463028.\u001b[0m\n"
     ]
    }
   ],
   "source": [
    "study = optuna.create_study(direction='maximize')\n",
    "study.optimize(objective, n_trials=N_TRIALS)"
   ]
  },
  {
   "attachments": {},
   "cell_type": "markdown",
   "metadata": {},
   "source": [
    "Save the results"
   ]
  },
  {
   "cell_type": "code",
   "execution_count": 75,
   "metadata": {},
   "outputs": [],
   "source": [
    "# Keep only the best model (and rename it)\n",
    "for trial in study.trials:\n",
    "    if trial.number != study.best_trial.number:\n",
    "        os.remove(tune_folder_path / f\"trial_{trial.number}.pkl\")\n",
    "    else:\n",
    "        os.rename(tune_folder_path / f\"trial_{trial.number}.pkl\", tune_folder_path / \"best_model.pkl\")"
   ]
  },
  {
   "cell_type": "code",
   "execution_count": 78,
   "metadata": {},
   "outputs": [],
   "source": [
    "# Save the best hyperparameters\n",
    "with open(tune_folder_path / \"best_params.json\", \"w\") as f:\n",
    "    best_params = const_params | study.best_params\n",
    "    json.dump(best_params, f)\n",
    "\n",
    "# Save some other relevant information\n",
    "with open(tune_folder_path / \"info.txt\", \"w\") as f:\n",
    "    f.write(f\"{10 * '-'} Global constants {10 * '-'}\\n\\n\")\n",
    "    f.write(f\"NUM_ITERATIONS = {NUM_ITERATIONS}\\n\")\n",
    "    f.write(f\"K = {K}\\n\")\n",
    "    f.write(f\"N_TRIALS = {N_TRIALS}\\n\\n\")\n",
    "    f.write(f\"{10 * '-'} Features {10 * '-'}\\n\\n\")\n",
    "    f.write(f\"{list(X_train.columns)}\\n\\n\")\n",
    "    f.write(f\"{10 * '-'} Study Info {10 * '-'}\\n\\n\")\n",
    "    f.write(f\"Best value: {study.best_value}\\n\")\n",
    "    f.write(f\"Best trial number: {study.best_trial.number}\\n\")"
   ]
  },
  {
   "cell_type": "code",
   "execution_count": null,
   "metadata": {},
   "outputs": [],
   "source": [
    "# Add plots"
   ]
  },
  {
   "attachments": {},
   "cell_type": "markdown",
   "metadata": {},
   "source": [
    "### Training"
   ]
  },
  {
   "attachments": {},
   "cell_type": "markdown",
   "metadata": {},
   "source": [
    "**Load the model (choose one)**"
   ]
  },
  {
   "attachments": {},
   "cell_type": "markdown",
   "metadata": {},
   "source": [
    "1. Create a new model with hand-picked hyperparameters"
   ]
  },
  {
   "cell_type": "code",
   "execution_count": null,
   "metadata": {
    "ExecuteTime": {
     "end_time": "2023-05-24T15:24:41.979953Z",
     "start_time": "2023-05-24T15:24:41.942879Z"
    }
   },
   "outputs": [],
   "source": [
    "params = {\n",
    "        # Constant parameters\n",
    "        \"objective\": \"lambdarank\",\n",
    "        \"boosting_type\": \"gbdt\",\n",
    "        \"metric\": \"ndcg\",\n",
    "        \"n_estimators\": NUM_ITERATIONS, \n",
    "        \"importance_type\": \"gain\",\n",
    "        \"label_gain\": [i for i in range(max(y_train.max(), y_val.max()) + 1)],\n",
    "        # \"bagging_freq\": 1,\n",
    "        \"n_jobs\": 2,\n",
    "        \"verbosity\": 1,\n",
    "        # Tuning parameters\n",
    "        \"num_leaves\": 32,\n",
    "        # 'max_depth': 1,\n",
    "        \"learning_rate\": 0.01,\n",
    "        \"subsample\": 0.8,\n",
    "        \"colsample_bytree\": 0.8,\n",
    "        \"min_data_in_leaf\": 50,\n",
    "    }\n",
    "\n",
    "model = lgb.LGBMRanker(**params)"
   ]
  },
  {
   "cell_type": "code",
   "execution_count": 82,
   "metadata": {},
   "outputs": [],
   "source": [
    "params = {\n",
    "\t\"objective\": \"lambdarank\",\n",
    "\t\"boosting_type\": \"gbdt\",\n",
    "\t\"metric\": \"ndcg\",\n",
    "\t\"n_estimators\": 300,\n",
    "\t\"max_depth\": -1,\n",
    "\t\"importance_type\": \"gain\",\n",
    "\t\"label_gain\": [\n",
    "\t\t0,\n",
    "\t\t1,\n",
    "\t\t2,\n",
    "\t\t3,\n",
    "\t\t4,\n",
    "\t\t5\n",
    "\t],\n",
    "\t\"bagging_freq\": 5,\n",
    "\t\"n_jobs\": 3,\n",
    "\t\"verbosity\": -1,\n",
    "\t\"early_stopping_round\": 50,\n",
    "\t\"num_leaves\": 442,\n",
    "\t\"learning_rate\": 0.01,\n",
    "\t\"min_data_in_leaf\": 820,\n",
    "\t\"bagging_fraction\": 0.85,\n",
    "\t\"feature_fraction\": 0.75,\n",
    "\t\"min_gain_to_split\": 0.09\n",
    "}\n",
    "model = lgb.LGBMRanker(**params)\n"
   ]
  },
  {
   "attachments": {},
   "cell_type": "markdown",
   "metadata": {},
   "source": [
    "2. Create a new model with the most recently tuned hyperparamters"
   ]
  },
  {
   "cell_type": "code",
   "execution_count": 79,
   "metadata": {},
   "outputs": [],
   "source": [
    "root = Path(\"./tuned_models\")\n",
    "most_recent_dir = [str(d)[-15:] for d in sorted(root.iterdir()) if d.is_dir()][-1]\n",
    "\n",
    "with open(root / most_recent_dir / \"best_params.json\", \"r\") as f:\n",
    "    best_params = json.load(f)\n",
    "\n",
    "model = lgb.LGBMRanker(**best_params)"
   ]
  },
  {
   "attachments": {},
   "cell_type": "markdown",
   "metadata": {},
   "source": [
    "3. Load the best model from the most recent tuning process"
   ]
  },
  {
   "cell_type": "code",
   "execution_count": null,
   "metadata": {},
   "outputs": [],
   "source": [
    "root = Path(\"./tuned_models\")\n",
    "most_recent_dir = [str(d)[-15:] for d in sorted(root.iterdir()) if d.is_dir()][-1]\n",
    "model_path = root / most_recent_dir / \"best_model.pkl\"\n",
    "\n",
    "model = pickle.load(open(model_path, \"rb\"))"
   ]
  },
  {
   "attachments": {},
   "cell_type": "markdown",
   "metadata": {},
   "source": [
    "4. Custom"
   ]
  },
  {
   "cell_type": "code",
   "execution_count": null,
   "metadata": {},
   "outputs": [],
   "source": [
    "# Create a lgb.LGBMRanker model however you like\n",
    "# model = ..."
   ]
  },
  {
   "attachments": {},
   "cell_type": "markdown",
   "metadata": {},
   "source": [
    "**Fitting the model** (skip if using a trained model)"
   ]
  },
  {
   "cell_type": "code",
   "execution_count": 83,
   "metadata": {
    "ExecuteTime": {
     "end_time": "2023-05-24T15:14:40.183969Z",
     "start_time": "2023-05-24T15:14:40.178353Z"
    },
    "collapsed": false
   },
   "outputs": [
    {
     "name": "stdout",
     "output_type": "stream",
     "text": [
      "LGBMRanker(bagging_fraction=0.85, bagging_freq=5, early_stopping_round=50,\n",
      "           feature_fraction=0.75, importance_type='gain',\n",
      "           label_gain=[0, 1, 2, 3, 4, 5], learning_rate=0.01, metric='ndcg',\n",
      "           min_data_in_leaf=820, min_gain_to_split=0.09, n_estimators=300,\n",
      "           n_jobs=3, num_leaves=442, objective='lambdarank', verbosity=-1)\n"
     ]
    }
   ],
   "source": [
    "print(model)"
   ]
  },
  {
   "cell_type": "code",
   "execution_count": 84,
   "metadata": {
    "ExecuteTime": {
     "end_time": "2023-05-24T15:23:48.507318Z",
     "start_time": "2023-05-24T15:23:47.995029Z"
    }
   },
   "outputs": [
    {
     "name": "stdout",
     "output_type": "stream",
     "text": [
      "2023-05-25 13:33:04.333577\n",
      "[1]\ttraining's ndcg@5: 0.333956\tvalid_1's ndcg@5: 0.323679\n",
      "[2]\ttraining's ndcg@5: 0.342734\tvalid_1's ndcg@5: 0.327986\n",
      "[3]\ttraining's ndcg@5: 0.346065\tvalid_1's ndcg@5: 0.329962\n",
      "[4]\ttraining's ndcg@5: 0.360564\tvalid_1's ndcg@5: 0.342606\n",
      "[5]\ttraining's ndcg@5: 0.37159\tvalid_1's ndcg@5: 0.350158\n",
      "[6]\ttraining's ndcg@5: 0.375798\tvalid_1's ndcg@5: 0.35353\n",
      "[7]\ttraining's ndcg@5: 0.380277\tvalid_1's ndcg@5: 0.356596\n",
      "[8]\ttraining's ndcg@5: 0.381506\tvalid_1's ndcg@5: 0.355708\n",
      "[9]\ttraining's ndcg@5: 0.385293\tvalid_1's ndcg@5: 0.358584\n",
      "[10]\ttraining's ndcg@5: 0.38911\tvalid_1's ndcg@5: 0.360986\n",
      "[11]\ttraining's ndcg@5: 0.392008\tvalid_1's ndcg@5: 0.362739\n",
      "[12]\ttraining's ndcg@5: 0.393859\tvalid_1's ndcg@5: 0.364426\n",
      "[13]\ttraining's ndcg@5: 0.39542\tvalid_1's ndcg@5: 0.36568\n",
      "[14]\ttraining's ndcg@5: 0.396905\tvalid_1's ndcg@5: 0.366044\n",
      "[15]\ttraining's ndcg@5: 0.397675\tvalid_1's ndcg@5: 0.365802\n",
      "[16]\ttraining's ndcg@5: 0.398399\tvalid_1's ndcg@5: 0.367262\n",
      "[17]\ttraining's ndcg@5: 0.399501\tvalid_1's ndcg@5: 0.367802\n",
      "[18]\ttraining's ndcg@5: 0.400041\tvalid_1's ndcg@5: 0.367938\n",
      "[19]\ttraining's ndcg@5: 0.400337\tvalid_1's ndcg@5: 0.367427\n",
      "[20]\ttraining's ndcg@5: 0.401132\tvalid_1's ndcg@5: 0.367853\n",
      "[21]\ttraining's ndcg@5: 0.401111\tvalid_1's ndcg@5: 0.36787\n",
      "[22]\ttraining's ndcg@5: 0.401884\tvalid_1's ndcg@5: 0.367917\n",
      "[23]\ttraining's ndcg@5: 0.403229\tvalid_1's ndcg@5: 0.369682\n",
      "[24]\ttraining's ndcg@5: 0.404176\tvalid_1's ndcg@5: 0.369632\n",
      "[25]\ttraining's ndcg@5: 0.404562\tvalid_1's ndcg@5: 0.369412\n",
      "[26]\ttraining's ndcg@5: 0.406185\tvalid_1's ndcg@5: 0.370848\n",
      "[27]\ttraining's ndcg@5: 0.406675\tvalid_1's ndcg@5: 0.370527\n",
      "[28]\ttraining's ndcg@5: 0.406887\tvalid_1's ndcg@5: 0.370225\n",
      "[29]\ttraining's ndcg@5: 0.407614\tvalid_1's ndcg@5: 0.370152\n",
      "[30]\ttraining's ndcg@5: 0.408717\tvalid_1's ndcg@5: 0.370412\n",
      "[31]\ttraining's ndcg@5: 0.408712\tvalid_1's ndcg@5: 0.370278\n",
      "[32]\ttraining's ndcg@5: 0.409247\tvalid_1's ndcg@5: 0.370047\n",
      "[33]\ttraining's ndcg@5: 0.409626\tvalid_1's ndcg@5: 0.37042\n",
      "[34]\ttraining's ndcg@5: 0.410761\tvalid_1's ndcg@5: 0.371446\n",
      "[35]\ttraining's ndcg@5: 0.411714\tvalid_1's ndcg@5: 0.371695\n",
      "[36]\ttraining's ndcg@5: 0.412245\tvalid_1's ndcg@5: 0.371717\n",
      "[37]\ttraining's ndcg@5: 0.412676\tvalid_1's ndcg@5: 0.371751\n",
      "[38]\ttraining's ndcg@5: 0.41294\tvalid_1's ndcg@5: 0.371708\n",
      "[39]\ttraining's ndcg@5: 0.412896\tvalid_1's ndcg@5: 0.371346\n",
      "[40]\ttraining's ndcg@5: 0.412835\tvalid_1's ndcg@5: 0.371758\n",
      "[41]\ttraining's ndcg@5: 0.413045\tvalid_1's ndcg@5: 0.371767\n",
      "[42]\ttraining's ndcg@5: 0.413815\tvalid_1's ndcg@5: 0.372036\n",
      "[43]\ttraining's ndcg@5: 0.41429\tvalid_1's ndcg@5: 0.372123\n",
      "[44]\ttraining's ndcg@5: 0.414837\tvalid_1's ndcg@5: 0.372272\n",
      "[45]\ttraining's ndcg@5: 0.414871\tvalid_1's ndcg@5: 0.372117\n",
      "[46]\ttraining's ndcg@5: 0.415197\tvalid_1's ndcg@5: 0.372184\n",
      "[47]\ttraining's ndcg@5: 0.415613\tvalid_1's ndcg@5: 0.372033\n",
      "[48]\ttraining's ndcg@5: 0.415664\tvalid_1's ndcg@5: 0.372222\n",
      "[49]\ttraining's ndcg@5: 0.415973\tvalid_1's ndcg@5: 0.372749\n",
      "[50]\ttraining's ndcg@5: 0.416101\tvalid_1's ndcg@5: 0.372735\n",
      "[51]\ttraining's ndcg@5: 0.41673\tvalid_1's ndcg@5: 0.372576\n",
      "[52]\ttraining's ndcg@5: 0.416999\tvalid_1's ndcg@5: 0.372398\n",
      "[53]\ttraining's ndcg@5: 0.417126\tvalid_1's ndcg@5: 0.372627\n",
      "[54]\ttraining's ndcg@5: 0.417314\tvalid_1's ndcg@5: 0.373015\n",
      "[55]\ttraining's ndcg@5: 0.41771\tvalid_1's ndcg@5: 0.373006\n",
      "[56]\ttraining's ndcg@5: 0.417902\tvalid_1's ndcg@5: 0.372781\n",
      "[57]\ttraining's ndcg@5: 0.418062\tvalid_1's ndcg@5: 0.372888\n",
      "[58]\ttraining's ndcg@5: 0.418361\tvalid_1's ndcg@5: 0.372975\n",
      "[59]\ttraining's ndcg@5: 0.418729\tvalid_1's ndcg@5: 0.372804\n",
      "[60]\ttraining's ndcg@5: 0.418764\tvalid_1's ndcg@5: 0.372726\n",
      "[61]\ttraining's ndcg@5: 0.419291\tvalid_1's ndcg@5: 0.373246\n",
      "[62]\ttraining's ndcg@5: 0.419511\tvalid_1's ndcg@5: 0.373289\n",
      "[63]\ttraining's ndcg@5: 0.419789\tvalid_1's ndcg@5: 0.373464\n",
      "[64]\ttraining's ndcg@5: 0.420169\tvalid_1's ndcg@5: 0.373409\n",
      "[65]\ttraining's ndcg@5: 0.42036\tvalid_1's ndcg@5: 0.373329\n",
      "[66]\ttraining's ndcg@5: 0.420647\tvalid_1's ndcg@5: 0.373044\n",
      "[67]\ttraining's ndcg@5: 0.420978\tvalid_1's ndcg@5: 0.372855\n",
      "[68]\ttraining's ndcg@5: 0.421143\tvalid_1's ndcg@5: 0.373125\n",
      "[69]\ttraining's ndcg@5: 0.42135\tvalid_1's ndcg@5: 0.373322\n",
      "[70]\ttraining's ndcg@5: 0.421716\tvalid_1's ndcg@5: 0.373751\n",
      "[71]\ttraining's ndcg@5: 0.421987\tvalid_1's ndcg@5: 0.37329\n",
      "[72]\ttraining's ndcg@5: 0.422429\tvalid_1's ndcg@5: 0.373719\n",
      "[73]\ttraining's ndcg@5: 0.42312\tvalid_1's ndcg@5: 0.373878\n",
      "[74]\ttraining's ndcg@5: 0.423347\tvalid_1's ndcg@5: 0.374077\n",
      "[75]\ttraining's ndcg@5: 0.423563\tvalid_1's ndcg@5: 0.373941\n",
      "[76]\ttraining's ndcg@5: 0.423853\tvalid_1's ndcg@5: 0.373938\n",
      "[77]\ttraining's ndcg@5: 0.424084\tvalid_1's ndcg@5: 0.373963\n",
      "[78]\ttraining's ndcg@5: 0.424455\tvalid_1's ndcg@5: 0.374545\n",
      "[79]\ttraining's ndcg@5: 0.424786\tvalid_1's ndcg@5: 0.374552\n",
      "[80]\ttraining's ndcg@5: 0.424866\tvalid_1's ndcg@5: 0.37493\n",
      "[81]\ttraining's ndcg@5: 0.425057\tvalid_1's ndcg@5: 0.375114\n",
      "[82]\ttraining's ndcg@5: 0.425509\tvalid_1's ndcg@5: 0.375415\n",
      "[83]\ttraining's ndcg@5: 0.425712\tvalid_1's ndcg@5: 0.375404\n",
      "[84]\ttraining's ndcg@5: 0.425832\tvalid_1's ndcg@5: 0.375187\n",
      "[85]\ttraining's ndcg@5: 0.426185\tvalid_1's ndcg@5: 0.375207\n",
      "[86]\ttraining's ndcg@5: 0.426649\tvalid_1's ndcg@5: 0.37561\n",
      "[87]\ttraining's ndcg@5: 0.426875\tvalid_1's ndcg@5: 0.375513\n",
      "[88]\ttraining's ndcg@5: 0.427073\tvalid_1's ndcg@5: 0.37587\n",
      "[89]\ttraining's ndcg@5: 0.427429\tvalid_1's ndcg@5: 0.375977\n",
      "[90]\ttraining's ndcg@5: 0.427609\tvalid_1's ndcg@5: 0.375744\n",
      "[91]\ttraining's ndcg@5: 0.427913\tvalid_1's ndcg@5: 0.375976\n",
      "[92]\ttraining's ndcg@5: 0.428232\tvalid_1's ndcg@5: 0.375957\n",
      "[93]\ttraining's ndcg@5: 0.428278\tvalid_1's ndcg@5: 0.375543\n",
      "[94]\ttraining's ndcg@5: 0.428631\tvalid_1's ndcg@5: 0.375909\n",
      "[95]\ttraining's ndcg@5: 0.42868\tvalid_1's ndcg@5: 0.375818\n",
      "[96]\ttraining's ndcg@5: 0.428999\tvalid_1's ndcg@5: 0.375728\n",
      "[97]\ttraining's ndcg@5: 0.429385\tvalid_1's ndcg@5: 0.375672\n",
      "[98]\ttraining's ndcg@5: 0.429631\tvalid_1's ndcg@5: 0.376213\n",
      "[99]\ttraining's ndcg@5: 0.430019\tvalid_1's ndcg@5: 0.376054\n",
      "[100]\ttraining's ndcg@5: 0.430242\tvalid_1's ndcg@5: 0.376522\n",
      "[101]\ttraining's ndcg@5: 0.430397\tvalid_1's ndcg@5: 0.376465\n",
      "[102]\ttraining's ndcg@5: 0.430677\tvalid_1's ndcg@5: 0.376301\n",
      "[103]\ttraining's ndcg@5: 0.430785\tvalid_1's ndcg@5: 0.376355\n",
      "[104]\ttraining's ndcg@5: 0.430967\tvalid_1's ndcg@5: 0.376306\n",
      "[105]\ttraining's ndcg@5: 0.431129\tvalid_1's ndcg@5: 0.376475\n",
      "[106]\ttraining's ndcg@5: 0.430958\tvalid_1's ndcg@5: 0.376367\n",
      "[107]\ttraining's ndcg@5: 0.431277\tvalid_1's ndcg@5: 0.376397\n",
      "[108]\ttraining's ndcg@5: 0.431575\tvalid_1's ndcg@5: 0.376151\n",
      "[109]\ttraining's ndcg@5: 0.431536\tvalid_1's ndcg@5: 0.376336\n",
      "[110]\ttraining's ndcg@5: 0.431831\tvalid_1's ndcg@5: 0.376067\n",
      "[111]\ttraining's ndcg@5: 0.432076\tvalid_1's ndcg@5: 0.37625\n",
      "[112]\ttraining's ndcg@5: 0.432335\tvalid_1's ndcg@5: 0.376339\n",
      "[113]\ttraining's ndcg@5: 0.432382\tvalid_1's ndcg@5: 0.376567\n",
      "[114]\ttraining's ndcg@5: 0.432644\tvalid_1's ndcg@5: 0.376719\n",
      "[115]\ttraining's ndcg@5: 0.432682\tvalid_1's ndcg@5: 0.376824\n",
      "[116]\ttraining's ndcg@5: 0.433036\tvalid_1's ndcg@5: 0.376936\n",
      "[117]\ttraining's ndcg@5: 0.433317\tvalid_1's ndcg@5: 0.377054\n",
      "[118]\ttraining's ndcg@5: 0.433298\tvalid_1's ndcg@5: 0.377334\n",
      "[119]\ttraining's ndcg@5: 0.433358\tvalid_1's ndcg@5: 0.377358\n",
      "[120]\ttraining's ndcg@5: 0.433442\tvalid_1's ndcg@5: 0.377358\n",
      "[121]\ttraining's ndcg@5: 0.433682\tvalid_1's ndcg@5: 0.377216\n",
      "[122]\ttraining's ndcg@5: 0.433857\tvalid_1's ndcg@5: 0.377331\n",
      "[123]\ttraining's ndcg@5: 0.434205\tvalid_1's ndcg@5: 0.377371\n",
      "[124]\ttraining's ndcg@5: 0.434382\tvalid_1's ndcg@5: 0.377492\n",
      "[125]\ttraining's ndcg@5: 0.434691\tvalid_1's ndcg@5: 0.377449\n",
      "[126]\ttraining's ndcg@5: 0.434924\tvalid_1's ndcg@5: 0.377293\n",
      "[127]\ttraining's ndcg@5: 0.434984\tvalid_1's ndcg@5: 0.377227\n",
      "[128]\ttraining's ndcg@5: 0.43509\tvalid_1's ndcg@5: 0.376973\n",
      "[129]\ttraining's ndcg@5: 0.435243\tvalid_1's ndcg@5: 0.376903\n",
      "[130]\ttraining's ndcg@5: 0.435494\tvalid_1's ndcg@5: 0.376995\n",
      "[131]\ttraining's ndcg@5: 0.43556\tvalid_1's ndcg@5: 0.377179\n",
      "[132]\ttraining's ndcg@5: 0.435667\tvalid_1's ndcg@5: 0.37723\n",
      "[133]\ttraining's ndcg@5: 0.436048\tvalid_1's ndcg@5: 0.377311\n",
      "[134]\ttraining's ndcg@5: 0.436248\tvalid_1's ndcg@5: 0.377496\n",
      "[135]\ttraining's ndcg@5: 0.436605\tvalid_1's ndcg@5: 0.377666\n",
      "[136]\ttraining's ndcg@5: 0.436691\tvalid_1's ndcg@5: 0.377587\n",
      "[137]\ttraining's ndcg@5: 0.436594\tvalid_1's ndcg@5: 0.377791\n",
      "[138]\ttraining's ndcg@5: 0.436501\tvalid_1's ndcg@5: 0.377504\n",
      "[139]\ttraining's ndcg@5: 0.436392\tvalid_1's ndcg@5: 0.377924\n",
      "[140]\ttraining's ndcg@5: 0.436415\tvalid_1's ndcg@5: 0.377822\n",
      "[141]\ttraining's ndcg@5: 0.436651\tvalid_1's ndcg@5: 0.377661\n",
      "[142]\ttraining's ndcg@5: 0.43683\tvalid_1's ndcg@5: 0.377716\n",
      "[143]\ttraining's ndcg@5: 0.437001\tvalid_1's ndcg@5: 0.377799\n",
      "[144]\ttraining's ndcg@5: 0.437149\tvalid_1's ndcg@5: 0.377788\n",
      "[145]\ttraining's ndcg@5: 0.437216\tvalid_1's ndcg@5: 0.377877\n",
      "[146]\ttraining's ndcg@5: 0.437321\tvalid_1's ndcg@5: 0.377885\n",
      "[147]\ttraining's ndcg@5: 0.437355\tvalid_1's ndcg@5: 0.378048\n",
      "[148]\ttraining's ndcg@5: 0.437472\tvalid_1's ndcg@5: 0.377703\n",
      "[149]\ttraining's ndcg@5: 0.437698\tvalid_1's ndcg@5: 0.377696\n",
      "[150]\ttraining's ndcg@5: 0.437956\tvalid_1's ndcg@5: 0.377947\n",
      "[151]\ttraining's ndcg@5: 0.438178\tvalid_1's ndcg@5: 0.377839\n",
      "[152]\ttraining's ndcg@5: 0.438163\tvalid_1's ndcg@5: 0.377883\n",
      "[153]\ttraining's ndcg@5: 0.438375\tvalid_1's ndcg@5: 0.37793\n",
      "[154]\ttraining's ndcg@5: 0.438683\tvalid_1's ndcg@5: 0.37773\n",
      "[155]\ttraining's ndcg@5: 0.439087\tvalid_1's ndcg@5: 0.378007\n",
      "[156]\ttraining's ndcg@5: 0.439234\tvalid_1's ndcg@5: 0.37802\n",
      "[157]\ttraining's ndcg@5: 0.439378\tvalid_1's ndcg@5: 0.378039\n",
      "[158]\ttraining's ndcg@5: 0.439569\tvalid_1's ndcg@5: 0.378269\n",
      "[159]\ttraining's ndcg@5: 0.439681\tvalid_1's ndcg@5: 0.378213\n",
      "[160]\ttraining's ndcg@5: 0.439637\tvalid_1's ndcg@5: 0.378204\n",
      "[161]\ttraining's ndcg@5: 0.439737\tvalid_1's ndcg@5: 0.37821\n",
      "[162]\ttraining's ndcg@5: 0.439976\tvalid_1's ndcg@5: 0.378052\n",
      "[163]\ttraining's ndcg@5: 0.440025\tvalid_1's ndcg@5: 0.378086\n",
      "[164]\ttraining's ndcg@5: 0.440079\tvalid_1's ndcg@5: 0.378044\n",
      "[165]\ttraining's ndcg@5: 0.440194\tvalid_1's ndcg@5: 0.378053\n",
      "[166]\ttraining's ndcg@5: 0.440224\tvalid_1's ndcg@5: 0.378335\n",
      "[167]\ttraining's ndcg@5: 0.440466\tvalid_1's ndcg@5: 0.3783\n",
      "[168]\ttraining's ndcg@5: 0.440579\tvalid_1's ndcg@5: 0.378058\n",
      "[169]\ttraining's ndcg@5: 0.440588\tvalid_1's ndcg@5: 0.377953\n",
      "[170]\ttraining's ndcg@5: 0.44067\tvalid_1's ndcg@5: 0.378067\n",
      "[171]\ttraining's ndcg@5: 0.440845\tvalid_1's ndcg@5: 0.378154\n",
      "[172]\ttraining's ndcg@5: 0.440835\tvalid_1's ndcg@5: 0.378223\n",
      "[173]\ttraining's ndcg@5: 0.441007\tvalid_1's ndcg@5: 0.378238\n",
      "[174]\ttraining's ndcg@5: 0.441114\tvalid_1's ndcg@5: 0.378421\n",
      "[175]\ttraining's ndcg@5: 0.441103\tvalid_1's ndcg@5: 0.378505\n",
      "[176]\ttraining's ndcg@5: 0.44147\tvalid_1's ndcg@5: 0.37857\n",
      "[177]\ttraining's ndcg@5: 0.441579\tvalid_1's ndcg@5: 0.378507\n",
      "[178]\ttraining's ndcg@5: 0.441571\tvalid_1's ndcg@5: 0.378571\n",
      "[179]\ttraining's ndcg@5: 0.441807\tvalid_1's ndcg@5: 0.378447\n",
      "[180]\ttraining's ndcg@5: 0.441915\tvalid_1's ndcg@5: 0.378636\n",
      "[181]\ttraining's ndcg@5: 0.442002\tvalid_1's ndcg@5: 0.378677\n",
      "[182]\ttraining's ndcg@5: 0.4421\tvalid_1's ndcg@5: 0.378631\n",
      "[183]\ttraining's ndcg@5: 0.442092\tvalid_1's ndcg@5: 0.378546\n",
      "[184]\ttraining's ndcg@5: 0.442255\tvalid_1's ndcg@5: 0.378729\n",
      "[185]\ttraining's ndcg@5: 0.442387\tvalid_1's ndcg@5: 0.378721\n",
      "[186]\ttraining's ndcg@5: 0.442475\tvalid_1's ndcg@5: 0.378747\n",
      "[187]\ttraining's ndcg@5: 0.442515\tvalid_1's ndcg@5: 0.378724\n",
      "[188]\ttraining's ndcg@5: 0.442718\tvalid_1's ndcg@5: 0.378918\n",
      "[189]\ttraining's ndcg@5: 0.442809\tvalid_1's ndcg@5: 0.378976\n",
      "[190]\ttraining's ndcg@5: 0.442939\tvalid_1's ndcg@5: 0.37899\n",
      "[191]\ttraining's ndcg@5: 0.443054\tvalid_1's ndcg@5: 0.378945\n",
      "[192]\ttraining's ndcg@5: 0.44322\tvalid_1's ndcg@5: 0.379104\n",
      "[193]\ttraining's ndcg@5: 0.443314\tvalid_1's ndcg@5: 0.379107\n",
      "[194]\ttraining's ndcg@5: 0.443453\tvalid_1's ndcg@5: 0.379222\n",
      "[195]\ttraining's ndcg@5: 0.443764\tvalid_1's ndcg@5: 0.379057\n",
      "[196]\ttraining's ndcg@5: 0.444036\tvalid_1's ndcg@5: 0.379127\n",
      "[197]\ttraining's ndcg@5: 0.44427\tvalid_1's ndcg@5: 0.379245\n",
      "[198]\ttraining's ndcg@5: 0.444235\tvalid_1's ndcg@5: 0.379182\n",
      "[199]\ttraining's ndcg@5: 0.444284\tvalid_1's ndcg@5: 0.379265\n",
      "[200]\ttraining's ndcg@5: 0.444444\tvalid_1's ndcg@5: 0.379303\n",
      "[201]\ttraining's ndcg@5: 0.444535\tvalid_1's ndcg@5: 0.379137\n",
      "[202]\ttraining's ndcg@5: 0.444574\tvalid_1's ndcg@5: 0.37923\n",
      "[203]\ttraining's ndcg@5: 0.444676\tvalid_1's ndcg@5: 0.379177\n",
      "[204]\ttraining's ndcg@5: 0.44479\tvalid_1's ndcg@5: 0.379075\n",
      "[205]\ttraining's ndcg@5: 0.445074\tvalid_1's ndcg@5: 0.379284\n",
      "[206]\ttraining's ndcg@5: 0.445124\tvalid_1's ndcg@5: 0.379308\n",
      "[207]\ttraining's ndcg@5: 0.445328\tvalid_1's ndcg@5: 0.379176\n",
      "[208]\ttraining's ndcg@5: 0.445368\tvalid_1's ndcg@5: 0.379261\n",
      "[209]\ttraining's ndcg@5: 0.445383\tvalid_1's ndcg@5: 0.379174\n",
      "[210]\ttraining's ndcg@5: 0.445572\tvalid_1's ndcg@5: 0.379091\n",
      "[211]\ttraining's ndcg@5: 0.445976\tvalid_1's ndcg@5: 0.378933\n",
      "[212]\ttraining's ndcg@5: 0.446016\tvalid_1's ndcg@5: 0.379251\n",
      "[213]\ttraining's ndcg@5: 0.446187\tvalid_1's ndcg@5: 0.379114\n",
      "[214]\ttraining's ndcg@5: 0.446324\tvalid_1's ndcg@5: 0.379268\n",
      "[215]\ttraining's ndcg@5: 0.44646\tvalid_1's ndcg@5: 0.379213\n",
      "[216]\ttraining's ndcg@5: 0.446591\tvalid_1's ndcg@5: 0.379311\n",
      "[217]\ttraining's ndcg@5: 0.446627\tvalid_1's ndcg@5: 0.379311\n",
      "[218]\ttraining's ndcg@5: 0.446835\tvalid_1's ndcg@5: 0.37931\n",
      "[219]\ttraining's ndcg@5: 0.446931\tvalid_1's ndcg@5: 0.379501\n",
      "[220]\ttraining's ndcg@5: 0.44698\tvalid_1's ndcg@5: 0.379308\n",
      "[221]\ttraining's ndcg@5: 0.447046\tvalid_1's ndcg@5: 0.379513\n",
      "[222]\ttraining's ndcg@5: 0.447194\tvalid_1's ndcg@5: 0.379494\n",
      "[223]\ttraining's ndcg@5: 0.447504\tvalid_1's ndcg@5: 0.379421\n",
      "[224]\ttraining's ndcg@5: 0.447581\tvalid_1's ndcg@5: 0.379402\n",
      "[225]\ttraining's ndcg@5: 0.447774\tvalid_1's ndcg@5: 0.379509\n",
      "[226]\ttraining's ndcg@5: 0.447814\tvalid_1's ndcg@5: 0.379716\n",
      "[227]\ttraining's ndcg@5: 0.447941\tvalid_1's ndcg@5: 0.379605\n",
      "[228]\ttraining's ndcg@5: 0.44813\tvalid_1's ndcg@5: 0.379494\n",
      "[229]\ttraining's ndcg@5: 0.448261\tvalid_1's ndcg@5: 0.379688\n",
      "[230]\ttraining's ndcg@5: 0.44842\tvalid_1's ndcg@5: 0.379801\n",
      "[231]\ttraining's ndcg@5: 0.448482\tvalid_1's ndcg@5: 0.379834\n",
      "[232]\ttraining's ndcg@5: 0.448543\tvalid_1's ndcg@5: 0.379792\n",
      "[233]\ttraining's ndcg@5: 0.448709\tvalid_1's ndcg@5: 0.379872\n",
      "[234]\ttraining's ndcg@5: 0.448702\tvalid_1's ndcg@5: 0.380078\n",
      "[235]\ttraining's ndcg@5: 0.448712\tvalid_1's ndcg@5: 0.380087\n",
      "[236]\ttraining's ndcg@5: 0.448822\tvalid_1's ndcg@5: 0.380115\n",
      "[237]\ttraining's ndcg@5: 0.448947\tvalid_1's ndcg@5: 0.380124\n",
      "[238]\ttraining's ndcg@5: 0.449067\tvalid_1's ndcg@5: 0.379972\n",
      "[239]\ttraining's ndcg@5: 0.449154\tvalid_1's ndcg@5: 0.380108\n",
      "[240]\ttraining's ndcg@5: 0.449324\tvalid_1's ndcg@5: 0.380044\n",
      "[241]\ttraining's ndcg@5: 0.449461\tvalid_1's ndcg@5: 0.380276\n",
      "[242]\ttraining's ndcg@5: 0.449557\tvalid_1's ndcg@5: 0.380163\n",
      "[243]\ttraining's ndcg@5: 0.449586\tvalid_1's ndcg@5: 0.380106\n",
      "[244]\ttraining's ndcg@5: 0.449734\tvalid_1's ndcg@5: 0.38038\n",
      "[245]\ttraining's ndcg@5: 0.449865\tvalid_1's ndcg@5: 0.380131\n",
      "[246]\ttraining's ndcg@5: 0.449883\tvalid_1's ndcg@5: 0.38034\n",
      "[247]\ttraining's ndcg@5: 0.450106\tvalid_1's ndcg@5: 0.380363\n",
      "[248]\ttraining's ndcg@5: 0.450213\tvalid_1's ndcg@5: 0.380186\n",
      "[249]\ttraining's ndcg@5: 0.450472\tvalid_1's ndcg@5: 0.380546\n",
      "[250]\ttraining's ndcg@5: 0.450672\tvalid_1's ndcg@5: 0.380514\n",
      "[251]\ttraining's ndcg@5: 0.450921\tvalid_1's ndcg@5: 0.380564\n",
      "[252]\ttraining's ndcg@5: 0.450895\tvalid_1's ndcg@5: 0.380263\n",
      "[253]\ttraining's ndcg@5: 0.450997\tvalid_1's ndcg@5: 0.380312\n",
      "[254]\ttraining's ndcg@5: 0.451091\tvalid_1's ndcg@5: 0.380176\n",
      "[255]\ttraining's ndcg@5: 0.451272\tvalid_1's ndcg@5: 0.380259\n",
      "[256]\ttraining's ndcg@5: 0.45132\tvalid_1's ndcg@5: 0.380343\n",
      "[257]\ttraining's ndcg@5: 0.451554\tvalid_1's ndcg@5: 0.380432\n",
      "[258]\ttraining's ndcg@5: 0.451772\tvalid_1's ndcg@5: 0.380409\n",
      "[259]\ttraining's ndcg@5: 0.452068\tvalid_1's ndcg@5: 0.380492\n",
      "[260]\ttraining's ndcg@5: 0.452086\tvalid_1's ndcg@5: 0.380477\n",
      "[261]\ttraining's ndcg@5: 0.452315\tvalid_1's ndcg@5: 0.380382\n",
      "[262]\ttraining's ndcg@5: 0.452485\tvalid_1's ndcg@5: 0.380548\n",
      "[263]\ttraining's ndcg@5: 0.45268\tvalid_1's ndcg@5: 0.380517\n",
      "[264]\ttraining's ndcg@5: 0.452729\tvalid_1's ndcg@5: 0.380316\n",
      "[265]\ttraining's ndcg@5: 0.452829\tvalid_1's ndcg@5: 0.380551\n",
      "[266]\ttraining's ndcg@5: 0.452958\tvalid_1's ndcg@5: 0.380701\n",
      "[267]\ttraining's ndcg@5: 0.453207\tvalid_1's ndcg@5: 0.380482\n",
      "[268]\ttraining's ndcg@5: 0.453158\tvalid_1's ndcg@5: 0.380699\n",
      "[269]\ttraining's ndcg@5: 0.453392\tvalid_1's ndcg@5: 0.380757\n",
      "[270]\ttraining's ndcg@5: 0.453467\tvalid_1's ndcg@5: 0.380757\n",
      "[271]\ttraining's ndcg@5: 0.453582\tvalid_1's ndcg@5: 0.380663\n",
      "[272]\ttraining's ndcg@5: 0.453751\tvalid_1's ndcg@5: 0.380807\n",
      "[273]\ttraining's ndcg@5: 0.453847\tvalid_1's ndcg@5: 0.380864\n",
      "[274]\ttraining's ndcg@5: 0.454016\tvalid_1's ndcg@5: 0.380771\n",
      "[275]\ttraining's ndcg@5: 0.454033\tvalid_1's ndcg@5: 0.380956\n",
      "[276]\ttraining's ndcg@5: 0.454274\tvalid_1's ndcg@5: 0.381188\n",
      "[277]\ttraining's ndcg@5: 0.454294\tvalid_1's ndcg@5: 0.381149\n",
      "[278]\ttraining's ndcg@5: 0.454459\tvalid_1's ndcg@5: 0.381086\n",
      "[279]\ttraining's ndcg@5: 0.454667\tvalid_1's ndcg@5: 0.381036\n",
      "[280]\ttraining's ndcg@5: 0.454877\tvalid_1's ndcg@5: 0.381121\n",
      "[281]\ttraining's ndcg@5: 0.454961\tvalid_1's ndcg@5: 0.380964\n",
      "[282]\ttraining's ndcg@5: 0.455215\tvalid_1's ndcg@5: 0.381102\n",
      "[283]\ttraining's ndcg@5: 0.455401\tvalid_1's ndcg@5: 0.381264\n",
      "[284]\ttraining's ndcg@5: 0.45549\tvalid_1's ndcg@5: 0.381209\n",
      "[285]\ttraining's ndcg@5: 0.455553\tvalid_1's ndcg@5: 0.381338\n",
      "[286]\ttraining's ndcg@5: 0.455762\tvalid_1's ndcg@5: 0.381384\n",
      "[287]\ttraining's ndcg@5: 0.455813\tvalid_1's ndcg@5: 0.381298\n",
      "[288]\ttraining's ndcg@5: 0.455816\tvalid_1's ndcg@5: 0.381069\n",
      "[289]\ttraining's ndcg@5: 0.455982\tvalid_1's ndcg@5: 0.381143\n",
      "[290]\ttraining's ndcg@5: 0.456151\tvalid_1's ndcg@5: 0.381367\n",
      "[291]\ttraining's ndcg@5: 0.456201\tvalid_1's ndcg@5: 0.381312\n",
      "[292]\ttraining's ndcg@5: 0.456337\tvalid_1's ndcg@5: 0.381244\n",
      "[293]\ttraining's ndcg@5: 0.45639\tvalid_1's ndcg@5: 0.381267\n",
      "[294]\ttraining's ndcg@5: 0.456524\tvalid_1's ndcg@5: 0.381248\n",
      "[295]\ttraining's ndcg@5: 0.456623\tvalid_1's ndcg@5: 0.381097\n",
      "[296]\ttraining's ndcg@5: 0.456826\tvalid_1's ndcg@5: 0.381042\n",
      "[297]\ttraining's ndcg@5: 0.456932\tvalid_1's ndcg@5: 0.380863\n",
      "[298]\ttraining's ndcg@5: 0.456994\tvalid_1's ndcg@5: 0.381014\n",
      "[299]\ttraining's ndcg@5: 0.457071\tvalid_1's ndcg@5: 0.380907\n",
      "[300]\ttraining's ndcg@5: 0.457157\tvalid_1's ndcg@5: 0.380698\n"
     ]
    },
    {
     "data": {
      "text/html": [
       "<style>#sk-container-id-3 {color: black;background-color: white;}#sk-container-id-3 pre{padding: 0;}#sk-container-id-3 div.sk-toggleable {background-color: white;}#sk-container-id-3 label.sk-toggleable__label {cursor: pointer;display: block;width: 100%;margin-bottom: 0;padding: 0.3em;box-sizing: border-box;text-align: center;}#sk-container-id-3 label.sk-toggleable__label-arrow:before {content: \"▸\";float: left;margin-right: 0.25em;color: #696969;}#sk-container-id-3 label.sk-toggleable__label-arrow:hover:before {color: black;}#sk-container-id-3 div.sk-estimator:hover label.sk-toggleable__label-arrow:before {color: black;}#sk-container-id-3 div.sk-toggleable__content {max-height: 0;max-width: 0;overflow: hidden;text-align: left;background-color: #f0f8ff;}#sk-container-id-3 div.sk-toggleable__content pre {margin: 0.2em;color: black;border-radius: 0.25em;background-color: #f0f8ff;}#sk-container-id-3 input.sk-toggleable__control:checked~div.sk-toggleable__content {max-height: 200px;max-width: 100%;overflow: auto;}#sk-container-id-3 input.sk-toggleable__control:checked~label.sk-toggleable__label-arrow:before {content: \"▾\";}#sk-container-id-3 div.sk-estimator input.sk-toggleable__control:checked~label.sk-toggleable__label {background-color: #d4ebff;}#sk-container-id-3 div.sk-label input.sk-toggleable__control:checked~label.sk-toggleable__label {background-color: #d4ebff;}#sk-container-id-3 input.sk-hidden--visually {border: 0;clip: rect(1px 1px 1px 1px);clip: rect(1px, 1px, 1px, 1px);height: 1px;margin: -1px;overflow: hidden;padding: 0;position: absolute;width: 1px;}#sk-container-id-3 div.sk-estimator {font-family: monospace;background-color: #f0f8ff;border: 1px dotted black;border-radius: 0.25em;box-sizing: border-box;margin-bottom: 0.5em;}#sk-container-id-3 div.sk-estimator:hover {background-color: #d4ebff;}#sk-container-id-3 div.sk-parallel-item::after {content: \"\";width: 100%;border-bottom: 1px solid gray;flex-grow: 1;}#sk-container-id-3 div.sk-label:hover label.sk-toggleable__label {background-color: #d4ebff;}#sk-container-id-3 div.sk-serial::before {content: \"\";position: absolute;border-left: 1px solid gray;box-sizing: border-box;top: 0;bottom: 0;left: 50%;z-index: 0;}#sk-container-id-3 div.sk-serial {display: flex;flex-direction: column;align-items: center;background-color: white;padding-right: 0.2em;padding-left: 0.2em;position: relative;}#sk-container-id-3 div.sk-item {position: relative;z-index: 1;}#sk-container-id-3 div.sk-parallel {display: flex;align-items: stretch;justify-content: center;background-color: white;position: relative;}#sk-container-id-3 div.sk-item::before, #sk-container-id-3 div.sk-parallel-item::before {content: \"\";position: absolute;border-left: 1px solid gray;box-sizing: border-box;top: 0;bottom: 0;left: 50%;z-index: -1;}#sk-container-id-3 div.sk-parallel-item {display: flex;flex-direction: column;z-index: 1;position: relative;background-color: white;}#sk-container-id-3 div.sk-parallel-item:first-child::after {align-self: flex-end;width: 50%;}#sk-container-id-3 div.sk-parallel-item:last-child::after {align-self: flex-start;width: 50%;}#sk-container-id-3 div.sk-parallel-item:only-child::after {width: 0;}#sk-container-id-3 div.sk-dashed-wrapped {border: 1px dashed gray;margin: 0 0.4em 0.5em 0.4em;box-sizing: border-box;padding-bottom: 0.4em;background-color: white;}#sk-container-id-3 div.sk-label label {font-family: monospace;font-weight: bold;display: inline-block;line-height: 1.2em;}#sk-container-id-3 div.sk-label-container {text-align: center;}#sk-container-id-3 div.sk-container {/* jupyter's `normalize.less` sets `[hidden] { display: none; }` but bootstrap.min.css set `[hidden] { display: none !important; }` so we also need the `!important` here to be able to override the default hidden behavior on the sphinx rendered scikit-learn.org. See: https://github.com/scikit-learn/scikit-learn/issues/21755 */display: inline-block !important;position: relative;}#sk-container-id-3 div.sk-text-repr-fallback {display: none;}</style><div id=\"sk-container-id-3\" class=\"sk-top-container\"><div class=\"sk-text-repr-fallback\"><pre>LGBMRanker(bagging_fraction=0.85, bagging_freq=5, early_stopping_round=50,\n",
       "           feature_fraction=0.75, importance_type=&#x27;gain&#x27;,\n",
       "           label_gain=[0, 1, 2, 3, 4, 5], learning_rate=0.01, metric=&#x27;ndcg&#x27;,\n",
       "           min_data_in_leaf=820, min_gain_to_split=0.09, n_estimators=300,\n",
       "           n_jobs=3, num_leaves=442, objective=&#x27;lambdarank&#x27;, verbosity=-1)</pre><b>In a Jupyter environment, please rerun this cell to show the HTML representation or trust the notebook. <br />On GitHub, the HTML representation is unable to render, please try loading this page with nbviewer.org.</b></div><div class=\"sk-container\" hidden><div class=\"sk-item\"><div class=\"sk-estimator sk-toggleable\"><input class=\"sk-toggleable__control sk-hidden--visually\" id=\"sk-estimator-id-3\" type=\"checkbox\" checked><label for=\"sk-estimator-id-3\" class=\"sk-toggleable__label sk-toggleable__label-arrow\">LGBMRanker</label><div class=\"sk-toggleable__content\"><pre>LGBMRanker(bagging_fraction=0.85, bagging_freq=5, early_stopping_round=50,\n",
       "           feature_fraction=0.75, importance_type=&#x27;gain&#x27;,\n",
       "           label_gain=[0, 1, 2, 3, 4, 5], learning_rate=0.01, metric=&#x27;ndcg&#x27;,\n",
       "           min_data_in_leaf=820, min_gain_to_split=0.09, n_estimators=300,\n",
       "           n_jobs=3, num_leaves=442, objective=&#x27;lambdarank&#x27;, verbosity=-1)</pre></div></div></div></div></div>"
      ],
      "text/plain": [
       "LGBMRanker(bagging_fraction=0.85, bagging_freq=5, early_stopping_round=50,\n",
       "           feature_fraction=0.75, importance_type='gain',\n",
       "           label_gain=[0, 1, 2, 3, 4, 5], learning_rate=0.01, metric='ndcg',\n",
       "           min_data_in_leaf=820, min_gain_to_split=0.09, n_estimators=300,\n",
       "           n_jobs=3, num_leaves=442, objective='lambdarank', verbosity=-1)"
      ]
     },
     "execution_count": 84,
     "metadata": {},
     "output_type": "execute_result"
    }
   ],
   "source": [
    "print(datetime.now())\n",
    "\n",
    "model.fit(\n",
    "      X=X_train,\n",
    "      y=y_train,\n",
    "      group=group_train,\n",
    "      eval_set=[(X_train, y_train),(X_val, y_val)],\n",
    "      eval_group=[group_train, group_val],\n",
    "      eval_at=[K] # k for NDCG@k\n",
    "      )"
   ]
  },
  {
   "attachments": {},
   "cell_type": "markdown",
   "metadata": {},
   "source": [
    "### Plots"
   ]
  },
  {
   "cell_type": "code",
   "execution_count": 85,
   "metadata": {},
   "outputs": [
    {
     "data": {
      "image/png": "[encoded data removed]",
      "text/plain": [
       "<Figure size 1200x800 with 1 Axes>"
      ]
     },
     "metadata": {},
     "output_type": "display_data"
    }
   ],
   "source": [
    "ax_metric = lgb.plot_metric(model, figsize = (12,8))"
   ]
  },
  {
   "cell_type": "code",
   "execution_count": 86,
   "metadata": {},
   "outputs": [
    {
     "data": {
      "image/png": "[encoded data removed]",
      "text/plain": [
       "<Figure size 1200x800 with 1 Axes>"
      ]
     },
     "metadata": {},
     "output_type": "display_data"
    }
   ],
   "source": [
    "ax_importance = lgb.plot_importance(model, xlabel='Importance (Gain)', figsize = (12,8))"
   ]
  },
  {
   "attachments": {},
   "cell_type": "markdown",
   "metadata": {},
   "source": [
    "### Testing"
   ]
  },
  {
   "cell_type": "code",
   "execution_count": 103,
   "metadata": {},
   "outputs": [
    {
     "data": {
      "text/plain": [
       "array([ 2.13699912e-03,  5.35253007e-02,  2.38313161e-04, ...,\n",
       "       -5.78637106e-01, -8.07308248e-03, -3.92757639e-03])"
      ]
     },
     "execution_count": 103,
     "metadata": {},
     "output_type": "execute_result"
    }
   ],
   "source": [
    "prediction = model.predict(X_test)\n",
    "prediction"
   ]
  },
  {
   "cell_type": "code",
   "execution_count": 106,
   "metadata": {},
   "outputs": [
    {
     "data": {
      "text/html": [
       "<div>\n",
       "<style scoped>\n",
       "    .dataframe tbody tr th:only-of-type {\n",
       "        vertical-align: middle;\n",
       "    }\n",
       "\n",
       "    .dataframe tbody tr th {\n",
       "        vertical-align: top;\n",
       "    }\n",
       "\n",
       "    .dataframe thead th {\n",
       "        text-align: right;\n",
       "    }\n",
       "</style>\n",
       "<table border=\"1\" class=\"dataframe\">\n",
       "  <thead>\n",
       "    <tr style=\"text-align: right;\">\n",
       "      <th></th>\n",
       "      <th>srch_id</th>\n",
       "      <th>prop_id</th>\n",
       "      <th>prediction</th>\n",
       "    </tr>\n",
       "  </thead>\n",
       "  <tbody>\n",
       "    <tr>\n",
       "      <th>0</th>\n",
       "      <td>1</td>\n",
       "      <td>3180</td>\n",
       "      <td>0.002137</td>\n",
       "    </tr>\n",
       "    <tr>\n",
       "      <th>1</th>\n",
       "      <td>1</td>\n",
       "      <td>5543</td>\n",
       "      <td>0.053525</td>\n",
       "    </tr>\n",
       "    <tr>\n",
       "      <th>2</th>\n",
       "      <td>1</td>\n",
       "      <td>14142</td>\n",
       "      <td>0.000238</td>\n",
       "    </tr>\n",
       "    <tr>\n",
       "      <th>3</th>\n",
       "      <td>1</td>\n",
       "      <td>22393</td>\n",
       "      <td>-0.229204</td>\n",
       "    </tr>\n",
       "    <tr>\n",
       "      <th>4</th>\n",
       "      <td>1</td>\n",
       "      <td>24194</td>\n",
       "      <td>0.400128</td>\n",
       "    </tr>\n",
       "  </tbody>\n",
       "</table>\n",
       "</div>"
      ],
      "text/plain": [
       "   srch_id  prop_id  prediction\n",
       "0        1     3180    0.002137\n",
       "1        1     5543    0.053525\n",
       "2        1    14142    0.000238\n",
       "3        1    22393   -0.229204\n",
       "4        1    24194    0.400128"
      ]
     },
     "execution_count": 106,
     "metadata": {},
     "output_type": "execute_result"
    }
   ],
   "source": [
    "solution = test_df[['srch_id', 'prop_id']].copy()\n",
    "solution['prediction'] = prediction\n",
    "solution.head()"
   ]
  },
  {
   "cell_type": "code",
   "execution_count": 107,
   "metadata": {},
   "outputs": [
    {
     "data": {
      "text/html": [
       "<div>\n",
       "<style scoped>\n",
       "    .dataframe tbody tr th:only-of-type {\n",
       "        vertical-align: middle;\n",
       "    }\n",
       "\n",
       "    .dataframe tbody tr th {\n",
       "        vertical-align: top;\n",
       "    }\n",
       "\n",
       "    .dataframe thead th {\n",
       "        text-align: right;\n",
       "    }\n",
       "</style>\n",
       "<table border=\"1\" class=\"dataframe\">\n",
       "  <thead>\n",
       "    <tr style=\"text-align: right;\">\n",
       "      <th></th>\n",
       "      <th>srch_id</th>\n",
       "      <th>prop_id</th>\n",
       "      <th>prediction</th>\n",
       "    </tr>\n",
       "  </thead>\n",
       "  <tbody>\n",
       "    <tr>\n",
       "      <th>23</th>\n",
       "      <td>1</td>\n",
       "      <td>99484</td>\n",
       "      <td>0.777191</td>\n",
       "    </tr>\n",
       "    <tr>\n",
       "      <th>9</th>\n",
       "      <td>1</td>\n",
       "      <td>54937</td>\n",
       "      <td>0.746204</td>\n",
       "    </tr>\n",
       "    <tr>\n",
       "      <th>12</th>\n",
       "      <td>1</td>\n",
       "      <td>61934</td>\n",
       "      <td>0.579951</td>\n",
       "    </tr>\n",
       "    <tr>\n",
       "      <th>4</th>\n",
       "      <td>1</td>\n",
       "      <td>24194</td>\n",
       "      <td>0.400128</td>\n",
       "    </tr>\n",
       "    <tr>\n",
       "      <th>5</th>\n",
       "      <td>1</td>\n",
       "      <td>28181</td>\n",
       "      <td>0.382219</td>\n",
       "    </tr>\n",
       "    <tr>\n",
       "      <th>...</th>\n",
       "      <td>...</td>\n",
       "      <td>...</td>\n",
       "      <td>...</td>\n",
       "    </tr>\n",
       "    <tr>\n",
       "      <th>4959178</th>\n",
       "      <td>332787</td>\n",
       "      <td>32019</td>\n",
       "      <td>0.139493</td>\n",
       "    </tr>\n",
       "    <tr>\n",
       "      <th>4959177</th>\n",
       "      <td>332787</td>\n",
       "      <td>29018</td>\n",
       "      <td>0.099851</td>\n",
       "    </tr>\n",
       "    <tr>\n",
       "      <th>4959182</th>\n",
       "      <td>332787</td>\n",
       "      <td>99509</td>\n",
       "      <td>-0.003928</td>\n",
       "    </tr>\n",
       "    <tr>\n",
       "      <th>4959181</th>\n",
       "      <td>332787</td>\n",
       "      <td>94437</td>\n",
       "      <td>-0.008073</td>\n",
       "    </tr>\n",
       "    <tr>\n",
       "      <th>4959180</th>\n",
       "      <td>332787</td>\n",
       "      <td>35240</td>\n",
       "      <td>-0.578637</td>\n",
       "    </tr>\n",
       "  </tbody>\n",
       "</table>\n",
       "<p>4959183 rows × 3 columns</p>\n",
       "</div>"
      ],
      "text/plain": [
       "         srch_id  prop_id  prediction\n",
       "23             1    99484    0.777191\n",
       "9              1    54937    0.746204\n",
       "12             1    61934    0.579951\n",
       "4              1    24194    0.400128\n",
       "5              1    28181    0.382219\n",
       "...          ...      ...         ...\n",
       "4959178   332787    32019    0.139493\n",
       "4959177   332787    29018    0.099851\n",
       "4959182   332787    99509   -0.003928\n",
       "4959181   332787    94437   -0.008073\n",
       "4959180   332787    35240   -0.578637\n",
       "\n",
       "[4959183 rows x 3 columns]"
      ]
     },
     "execution_count": 107,
     "metadata": {},
     "output_type": "execute_result"
    }
   ],
   "source": [
    "solution.sort_values(by=['srch_id', 'prediction'], ascending=[True, False])"
   ]
  },
  {
   "attachments": {},
   "cell_type": "markdown",
   "metadata": {},
   "source": [
    "### Save Results"
   ]
  },
  {
   "cell_type": "code",
   "execution_count": 108,
   "metadata": {},
   "outputs": [],
   "source": [
    "# Create the folder to store the results of the training\n",
    "train_folder_path = Path(\"./trained_models/\" + datetime.now().strftime(\"%Y%m%d_%H%M%S\"))\n",
    "train_folder_path.mkdir(parents=True, exist_ok=True)\n",
    "\n",
    "# Save the model\n",
    "pickle.dump(model, open(train_folder_path / \"model.pkl\", \"wb\"))\n",
    "\n",
    "# Save the parameters\n",
    "with open(train_folder_path / \"params.txt\", \"w\") as f:\n",
    "    f.write(json.dumps(model.get_params()))\n",
    "\n",
    "# Save the feature names\n",
    "with open(train_folder_path / \"feature_names.txt\", \"w\") as f:\n",
    "    f.write(str(list(X_train.columns)))\n",
    "\n",
    "# Save the figures\n",
    "ax_metric.figure.savefig(train_folder_path / \"learning_curve.pdf\", bbox_inches=\"tight\")\n",
    "ax_importance.figure.savefig(train_folder_path / \"feature_importance.pdf\", bbox_inches=\"tight\")\n",
    "\n",
    "# Save best evaluation scores\n",
    "with open(train_folder_path / \"best_scores.txt\", \"w\") as f:\n",
    "    f.write(\"Best training score: \" + str(model.best_score_['training'][f'ndcg@{K}']) + \"\\n\")\n",
    "    f.write(\"Best validation score: \" + str(model.best_score_['valid_1'][f'ndcg@{K}']) + \"\\n\")\n",
    "\n",
    "# Save the submission file\n",
    "submission_file = train_folder_path / \"submission.csv\"\n",
    "test_df[['srch_id', 'prop_id']].to_csv(submission_file, index=False)"
   ]
  },
  {
   "attachments": {},
   "cell_type": "markdown",
   "metadata": {},
   "source": [
    "### Playground"
   ]
  },
  {
   "cell_type": "code",
   "execution_count": null,
   "metadata": {},
   "outputs": [],
   "source": [
    "x = {\"a\": 1, \"b\": 2}\n",
    "y = {\"c\": 3, \"d\": 4}\n",
    "\n",
    "x | y"
   ]
  }
 ],
 "metadata": {
  "kernelspec": {
   "display_name": "venv",
   "language": "python",
   "name": "python3"
  },
  "language_info": {
   "codemirror_mode": {
    "name": "ipython",
    "version": 3
   },
   "file_extension": ".py",
   "mimetype": "text/x-python",
   "name": "python",
   "nbconvert_exporter": "python",
   "pygments_lexer": "ipython3",
   "version": "3.9.16"
  },
  "orig_nbformat": 4
 },
 "nbformat": 4,
 "nbformat_minor": 2
}
